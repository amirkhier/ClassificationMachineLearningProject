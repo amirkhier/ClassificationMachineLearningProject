{
  "cells": [
    {
      "cell_type": "markdown",
      "metadata": {
        "id": "WxEMakEiBTl-"
      },
      "source": [
        "#Mid-term exercise"
      ]
    },
    {
      "cell_type": "markdown",
      "source": [
        "Submitters:\n",
        "\n",
        "1.   Shani Eliyahou - 322691668\n",
        "2.   Oren Jacob - 315942763\n",
        "3.   Amir Khier - 315128967\n",
        "\n",
        "\n",
        "\n"
      ],
      "metadata": {
        "id": "RZTNc_Fukybp"
      }
    },
    {
      "cell_type": "markdown",
      "metadata": {
        "id": "63MGm65eCjRr"
      },
      "source": [
        "#1. Load your libraries here:"
      ]
    },
    {
      "cell_type": "code",
      "execution_count": null,
      "metadata": {
        "id": "Ug3u-V4-BWTi"
      },
      "outputs": [],
      "source": [
        "#your code here:\n",
        "import pandas as pd\n",
        "import numpy as np\n",
        "import seaborn as sns\n",
        "import matplotlib.pyplot as plt\n",
        "from sklearn.preprocessing import MinMaxScaler\n",
        "from sklearn.model_selection import train_test_split\n",
        "from sklearn.impute import KNNImputer\n",
        "from sklearn.impute import SimpleImputer\n",
        "from sklearn.experimental import enable_iterative_imputer\n",
        "from sklearn.impute import IterativeImputer\n",
        "from sklearn.ensemble import RandomForestClassifier\n",
        "from sklearn.svm import SVC\n",
        "from imblearn.under_sampling import RandomUnderSampler\n",
        "from sklearn.model_selection import GridSearchCV\n",
        "from sklearn.metrics import classification_report\n",
        "from sklearn.linear_model import LogisticRegression"
      ]
    },
    {
      "cell_type": "markdown",
      "metadata": {
        "id": "zoS_ee5wDJDE"
      },
      "source": [
        "#Upload your data file:"
      ]
    },
    {
      "cell_type": "code",
      "execution_count": null,
      "metadata": {
        "id": "_g0XLs7MDKQE",
        "colab": {
          "base_uri": "https://localhost:8080/",
          "height": 73
        },
        "outputId": "34450222-35f8-48ee-a453-0694ef265570"
      },
      "outputs": [
        {
          "output_type": "display_data",
          "data": {
            "text/plain": [
              "<IPython.core.display.HTML object>"
            ],
            "text/html": [
              "\n",
              "     <input type=\"file\" id=\"files-6456ae62-2ea1-4385-9eeb-2b90f47eac27\" name=\"files[]\" multiple disabled\n",
              "        style=\"border:none\" />\n",
              "     <output id=\"result-6456ae62-2ea1-4385-9eeb-2b90f47eac27\">\n",
              "      Upload widget is only available when the cell has been executed in the\n",
              "      current browser session. Please rerun this cell to enable.\n",
              "      </output>\n",
              "      <script>// Copyright 2017 Google LLC\n",
              "//\n",
              "// Licensed under the Apache License, Version 2.0 (the \"License\");\n",
              "// you may not use this file except in compliance with the License.\n",
              "// You may obtain a copy of the License at\n",
              "//\n",
              "//      http://www.apache.org/licenses/LICENSE-2.0\n",
              "//\n",
              "// Unless required by applicable law or agreed to in writing, software\n",
              "// distributed under the License is distributed on an \"AS IS\" BASIS,\n",
              "// WITHOUT WARRANTIES OR CONDITIONS OF ANY KIND, either express or implied.\n",
              "// See the License for the specific language governing permissions and\n",
              "// limitations under the License.\n",
              "\n",
              "/**\n",
              " * @fileoverview Helpers for google.colab Python module.\n",
              " */\n",
              "(function(scope) {\n",
              "function span(text, styleAttributes = {}) {\n",
              "  const element = document.createElement('span');\n",
              "  element.textContent = text;\n",
              "  for (const key of Object.keys(styleAttributes)) {\n",
              "    element.style[key] = styleAttributes[key];\n",
              "  }\n",
              "  return element;\n",
              "}\n",
              "\n",
              "// Max number of bytes which will be uploaded at a time.\n",
              "const MAX_PAYLOAD_SIZE = 100 * 1024;\n",
              "\n",
              "function _uploadFiles(inputId, outputId) {\n",
              "  const steps = uploadFilesStep(inputId, outputId);\n",
              "  const outputElement = document.getElementById(outputId);\n",
              "  // Cache steps on the outputElement to make it available for the next call\n",
              "  // to uploadFilesContinue from Python.\n",
              "  outputElement.steps = steps;\n",
              "\n",
              "  return _uploadFilesContinue(outputId);\n",
              "}\n",
              "\n",
              "// This is roughly an async generator (not supported in the browser yet),\n",
              "// where there are multiple asynchronous steps and the Python side is going\n",
              "// to poll for completion of each step.\n",
              "// This uses a Promise to block the python side on completion of each step,\n",
              "// then passes the result of the previous step as the input to the next step.\n",
              "function _uploadFilesContinue(outputId) {\n",
              "  const outputElement = document.getElementById(outputId);\n",
              "  const steps = outputElement.steps;\n",
              "\n",
              "  const next = steps.next(outputElement.lastPromiseValue);\n",
              "  return Promise.resolve(next.value.promise).then((value) => {\n",
              "    // Cache the last promise value to make it available to the next\n",
              "    // step of the generator.\n",
              "    outputElement.lastPromiseValue = value;\n",
              "    return next.value.response;\n",
              "  });\n",
              "}\n",
              "\n",
              "/**\n",
              " * Generator function which is called between each async step of the upload\n",
              " * process.\n",
              " * @param {string} inputId Element ID of the input file picker element.\n",
              " * @param {string} outputId Element ID of the output display.\n",
              " * @return {!Iterable<!Object>} Iterable of next steps.\n",
              " */\n",
              "function* uploadFilesStep(inputId, outputId) {\n",
              "  const inputElement = document.getElementById(inputId);\n",
              "  inputElement.disabled = false;\n",
              "\n",
              "  const outputElement = document.getElementById(outputId);\n",
              "  outputElement.innerHTML = '';\n",
              "\n",
              "  const pickedPromise = new Promise((resolve) => {\n",
              "    inputElement.addEventListener('change', (e) => {\n",
              "      resolve(e.target.files);\n",
              "    });\n",
              "  });\n",
              "\n",
              "  const cancel = document.createElement('button');\n",
              "  inputElement.parentElement.appendChild(cancel);\n",
              "  cancel.textContent = 'Cancel upload';\n",
              "  const cancelPromise = new Promise((resolve) => {\n",
              "    cancel.onclick = () => {\n",
              "      resolve(null);\n",
              "    };\n",
              "  });\n",
              "\n",
              "  // Wait for the user to pick the files.\n",
              "  const files = yield {\n",
              "    promise: Promise.race([pickedPromise, cancelPromise]),\n",
              "    response: {\n",
              "      action: 'starting',\n",
              "    }\n",
              "  };\n",
              "\n",
              "  cancel.remove();\n",
              "\n",
              "  // Disable the input element since further picks are not allowed.\n",
              "  inputElement.disabled = true;\n",
              "\n",
              "  if (!files) {\n",
              "    return {\n",
              "      response: {\n",
              "        action: 'complete',\n",
              "      }\n",
              "    };\n",
              "  }\n",
              "\n",
              "  for (const file of files) {\n",
              "    const li = document.createElement('li');\n",
              "    li.append(span(file.name, {fontWeight: 'bold'}));\n",
              "    li.append(span(\n",
              "        `(${file.type || 'n/a'}) - ${file.size} bytes, ` +\n",
              "        `last modified: ${\n",
              "            file.lastModifiedDate ? file.lastModifiedDate.toLocaleDateString() :\n",
              "                                    'n/a'} - `));\n",
              "    const percent = span('0% done');\n",
              "    li.appendChild(percent);\n",
              "\n",
              "    outputElement.appendChild(li);\n",
              "\n",
              "    const fileDataPromise = new Promise((resolve) => {\n",
              "      const reader = new FileReader();\n",
              "      reader.onload = (e) => {\n",
              "        resolve(e.target.result);\n",
              "      };\n",
              "      reader.readAsArrayBuffer(file);\n",
              "    });\n",
              "    // Wait for the data to be ready.\n",
              "    let fileData = yield {\n",
              "      promise: fileDataPromise,\n",
              "      response: {\n",
              "        action: 'continue',\n",
              "      }\n",
              "    };\n",
              "\n",
              "    // Use a chunked sending to avoid message size limits. See b/62115660.\n",
              "    let position = 0;\n",
              "    do {\n",
              "      const length = Math.min(fileData.byteLength - position, MAX_PAYLOAD_SIZE);\n",
              "      const chunk = new Uint8Array(fileData, position, length);\n",
              "      position += length;\n",
              "\n",
              "      const base64 = btoa(String.fromCharCode.apply(null, chunk));\n",
              "      yield {\n",
              "        response: {\n",
              "          action: 'append',\n",
              "          file: file.name,\n",
              "          data: base64,\n",
              "        },\n",
              "      };\n",
              "\n",
              "      let percentDone = fileData.byteLength === 0 ?\n",
              "          100 :\n",
              "          Math.round((position / fileData.byteLength) * 100);\n",
              "      percent.textContent = `${percentDone}% done`;\n",
              "\n",
              "    } while (position < fileData.byteLength);\n",
              "  }\n",
              "\n",
              "  // All done.\n",
              "  yield {\n",
              "    response: {\n",
              "      action: 'complete',\n",
              "    }\n",
              "  };\n",
              "}\n",
              "\n",
              "scope.google = scope.google || {};\n",
              "scope.google.colab = scope.google.colab || {};\n",
              "scope.google.colab._files = {\n",
              "  _uploadFiles,\n",
              "  _uploadFilesContinue,\n",
              "};\n",
              "})(self);\n",
              "</script> "
            ]
          },
          "metadata": {}
        },
        {
          "output_type": "stream",
          "name": "stdout",
          "text": [
            "Saving neo.csv to neo.csv\n"
          ]
        }
      ],
      "source": [
        "from google.colab import files\n",
        "file = files.upload()"
      ]
    },
    {
      "cell_type": "markdown",
      "metadata": {
        "id": "mO-FSmz3DTAj"
      },
      "source": [
        "#2. Read the file into a pandas data frame:\n",
        "Split your data to:\n",
        "\n",
        "a. X: the feature matrix\n",
        "\n",
        "b. y: the label vector"
      ]
    },
    {
      "cell_type": "code",
      "execution_count": null,
      "metadata": {
        "id": "0-ydbL4lDXIa"
      },
      "outputs": [],
      "source": [
        "#your code here:\n",
        "df = pd.read_csv(\"neo.csv\")\n",
        "X_features = df.drop(['hazardous', 'orbiting_body', 'id', 'name', 'sentry_object'], axis=1)\n",
        "Y_target = df['hazardous']"
      ]
    },
    {
      "cell_type": "markdown",
      "metadata": {
        "id": "T5BZb-AnDXnb"
      },
      "source": [
        "#3. Check for missing values:"
      ]
    },
    {
      "cell_type": "code",
      "execution_count": null,
      "metadata": {
        "id": "glKyIdt4DcKz",
        "colab": {
          "base_uri": "https://localhost:8080/"
        },
        "outputId": "2cdac3f8-a9af-4835-a30e-1da6d75131ec"
      },
      "outputs": [
        {
          "output_type": "execute_result",
          "data": {
            "text/plain": [
              "id                    0\n",
              "name                  0\n",
              "est_diameter_min      0\n",
              "est_diameter_max      0\n",
              "relative_velocity     0\n",
              "miss_distance         0\n",
              "orbiting_body         0\n",
              "sentry_object         0\n",
              "absolute_magnitude    0\n",
              "hazardous             0\n",
              "dtype: int64"
            ]
          },
          "metadata": {},
          "execution_count": 5
        }
      ],
      "source": [
        "#your code here:\n",
        "df.isna().sum()"
      ]
    },
    {
      "cell_type": "markdown",
      "metadata": {
        "id": "tYqhzgE8Dkdj"
      },
      "source": [
        "If there are no missing values in your data, follow the next steps:\n",
        "1. uncomment the following function by:\n",
        "\n",
        "  a. selecting all the code in the chunk\n",
        "\n",
        "  b. pressing \"ctrl\"+\"/\" to uncomment all lines\n",
        "2. assign the missing values-containing data to a new variable name (see example below).\n",
        "\n",
        "Say my dataset features is named X.\n",
        "\n",
        "Than the use of the function would be:\n",
        "\n",
        "\n",
        "```\n",
        "X_missing=add_missing_values(X)\n",
        " ```\n",
        "\n",
        "\n",
        "\n",
        "\n"
      ]
    },
    {
      "cell_type": "code",
      "execution_count": null,
      "metadata": {
        "id": "l8vxkVPpDip8"
      },
      "outputs": [],
      "source": [
        "def add_missing_values(X_full):\n",
        "     import numpy as np\n",
        "     Col_names=X_full.columns\n",
        "     X_full=X_full.to_numpy()\n",
        "     rng = np.random.RandomState(4)\n",
        "     n_samples, n_features = X_full.shape\n",
        "\n",
        "     # Add missing values in 75% of the lines\n",
        "     missing_rate = 0.75\n",
        "     n_missing_samples = int(n_samples * missing_rate)\n",
        "\n",
        "     missing_samples = np.zeros(n_samples, dtype=bool)\n",
        "     missing_samples[:n_missing_samples] = True\n",
        "\n",
        "     rng.shuffle(missing_samples)\n",
        "     missing_features = rng.randint(0, n_features, n_missing_samples)\n",
        "     X_missing = X_full.copy()\n",
        "     X_missing[missing_samples, missing_features] = np.nan\n",
        "     X_missing=pd.DataFrame(X_missing)\n",
        "     X_missing.columns=Col_names\n",
        "     return X_missing\n",
        "     # X_missing\n"
      ]
    },
    {
      "cell_type": "code",
      "execution_count": null,
      "metadata": {
        "id": "vZLGvx7YIUCc"
      },
      "outputs": [],
      "source": [
        "#your code here, if there are no missing values:\n",
        "X_features_missing = add_missing_values(X_features)"
      ]
    },
    {
      "cell_type": "markdown",
      "metadata": {
        "id": "sNhwID7JGHQz"
      },
      "source": [
        "\n",
        "#4. Impute the missing values using three different methods and assign the imputed output datasets into variables:"
      ]
    },
    {
      "cell_type": "code",
      "execution_count": null,
      "metadata": {
        "id": "nQDXRX4TIotK"
      },
      "outputs": [],
      "source": [
        "#your code here:\n",
        "\n",
        "# Due to a large dataset, KNNImputer is inefficient and takes a long time to run,\n",
        "# so we decided to impute missing value by SimpleImputer where startegy equals to 'median' instead.\n",
        "\n",
        "# knnimpute = KNNImputer(n_neighbors=5)\n",
        "# X_imputed_by_KNN = knnimpute.fit_transform(X_features_missing)\n",
        "# X_imputed_by_KNN = pd.DataFrame(X_imputed_by_KNN, columns=X_features_missing.columns)\n",
        "\n",
        "#Impute by medians\n",
        "medimp = SimpleImputer(missing_values=np.nan , strategy='median')\n",
        "X_imputed_by_median = medimp.fit_transform(X_features_missing.values)\n",
        "X_imputed_by_median_df = pd.DataFrame(X_imputed_by_median,columns=X_features_missing.columns)\n",
        "\n",
        "\n",
        "# Impute by means\n",
        "imr = SimpleImputer(missing_values=np.nan , strategy='mean')\n",
        "X_imputed_by_mean = imr.fit_transform(X_features_missing.values)\n",
        "X_imputed_by_mean_df = pd.DataFrame(X_imputed_by_mean,columns=X_features_missing.columns)\n",
        "\n",
        "# New Way to do Impute - iterative imputer:\n",
        "X_imputed_by_iterative = IterativeImputer(random_state=0, min_value=0).fit_transform(X_features_missing)\n",
        "X_imputed_by_iterative_df = pd.DataFrame(X_imputed_by_iterative, columns=X_features_missing.columns)\n",
        "\n",
        "\n"
      ]
    },
    {
      "cell_type": "markdown",
      "metadata": {
        "id": "GdbJRpF8IsY8"
      },
      "source": [
        "#5. Preprocessing (for both imputed datasets):\n",
        "a. standardize or normalize the data\n",
        "\n",
        "  "
      ]
    },
    {
      "cell_type": "code",
      "execution_count": null,
      "metadata": {
        "id": "wzahU-AlJV3c"
      },
      "outputs": [],
      "source": [
        "#your code here:\n",
        "#Normalizing data:\n",
        "X_imputed_by_median_norm = MinMaxScaler().fit_transform(X_imputed_by_median)\n",
        "X_imputed_by_median_norm_df = pd.DataFrame(X_imputed_by_median_norm, columns=X_imputed_by_median_df.columns)\n",
        "\n",
        "X_imputed_by_mean_norm = MinMaxScaler().fit_transform(X_imputed_by_mean)\n",
        "X_imputed_by_mean_norm_df = pd.DataFrame(X_imputed_by_mean_norm, columns=X_imputed_by_mean_df.columns)\n",
        "\n",
        "X_imputed_by_iterative_norm = MinMaxScaler().fit_transform(X_imputed_by_iterative)\n",
        "X_imputed_by_iterative_norm_df = pd.DataFrame(X_imputed_by_iterative_norm, columns=X_imputed_by_iterative_df.columns)"
      ]
    },
    {
      "cell_type": "markdown",
      "metadata": {
        "id": "PyZXvQccPOEY"
      },
      "source": [
        "b. print visual representation of the y variable (the output/label variable) or/and value counts of the two categories to test if the data is imbalanced."
      ]
    },
    {
      "cell_type": "code",
      "execution_count": null,
      "metadata": {
        "id": "PBCYofrePVKm",
        "colab": {
          "base_uri": "https://localhost:8080/",
          "height": 501
        },
        "outputId": "cd6e07e5-8ed6-4238-be50-8ab683ffdd10"
      },
      "outputs": [
        {
          "output_type": "stream",
          "name": "stdout",
          "text": [
            "False    81996\n",
            "True      8840\n",
            "Name: hazardous, dtype: int64\n"
          ]
        },
        {
          "output_type": "display_data",
          "data": {
            "text/plain": [
              "<Figure size 640x480 with 1 Axes>"
            ],
            "image/png": "[encoded data removed]"
          },
          "metadata": {}
        }
      ],
      "source": [
        "counts = Y_target.value_counts()\n",
        "hazardous_count_bar = sns.barplot(x=counts.index, y=counts.values)\n",
        "hazardous_count_bar.set(xlabel='Is hazardous to earth?', ylabel='Total')\n",
        "print(counts)\n",
        "plt.show()"
      ]
    },
    {
      "cell_type": "markdown",
      "metadata": {
        "id": "WW5CDFSOLCFd"
      },
      "source": [
        "#c. Verbally explain if balancing the label is required, why? (in 2-3 lines)\n"
      ]
    },
    {
      "cell_type": "markdown",
      "metadata": {
        "id": "2B1KVYl3LYTM"
      },
      "source": [
        "#Your answer here:\n",
        "\n",
        "As it can be seen from the bar plot above, 'hazardous' label is imbalanced.\n",
        "Balancing this label is required because the learning algorithm might become biased toward the majority class, meaning it might biased toward the objects that are not hazardous to earth. We are more interested on predicting objects that are hazardous to earth."
      ]
    },
    {
      "cell_type": "markdown",
      "metadata": {
        "id": "46Pr9C1CLnlL"
      },
      "source": [
        "#6. If balancing is required, choose one balancing method and perform it on your data.\n",
        "\n",
        "Verbally explain the logic behind the chosen balancing metohd, how does it work?"
      ]
    },
    {
      "cell_type": "code",
      "execution_count": null,
      "metadata": {
        "id": "WTtWHavyMF5S"
      },
      "outputs": [],
      "source": [
        "#your code here, if balancing is requierd:\n",
        "sampler = RandomUnderSampler(random_state=8123)\n",
        "X_median_resampled, y_target_resampled = sampler.fit_resample(X_imputed_by_median_norm.tolist(), Y_target.values.tolist())\n",
        "X_mean_resampled, y_target_resampled = sampler.fit_resample(X_imputed_by_mean_norm.tolist(), Y_target.values.tolist())\n",
        "X_iterative_resampled, y_target_resampled = sampler.fit_resample(X_imputed_by_iterative_norm.tolist(), Y_target.values.tolist())"
      ]
    },
    {
      "cell_type": "markdown",
      "metadata": {
        "id": "lc4fQg-tMVjJ"
      },
      "source": [
        "#Your answer here:\n",
        "\n",
        "Random undersampling is a balancing method that randomly removes instances from the majority class. This method removes random rows from the dataset that their target column's value belongs to the majority class and finally creates a balanced dataset.\n"
      ]
    },
    {
      "cell_type": "markdown",
      "metadata": {
        "id": "pg_K-4_gNjbb"
      },
      "source": [
        "#7. Train test split:"
      ]
    },
    {
      "cell_type": "code",
      "execution_count": null,
      "metadata": {
        "id": "9Uobk5J_Nl5j"
      },
      "outputs": [],
      "source": [
        "train_median_X, test_median_X, train_median_Y, test_median_Y = train_test_split(X_median_resampled,y_target_resampled,test_size=0.2,random_state=8123)"
      ]
    },
    {
      "cell_type": "code",
      "execution_count": null,
      "metadata": {
        "id": "LHhhYyIUvR35"
      },
      "outputs": [],
      "source": [
        "train_mean_X, test_mean_X, train_mean_Y, test_mean_Y = train_test_split(X_mean_resampled,y_target_resampled,test_size=0.2,random_state=8123)"
      ]
    },
    {
      "cell_type": "code",
      "execution_count": null,
      "metadata": {
        "id": "gDET5t12vSTA"
      },
      "outputs": [],
      "source": [
        "train_iterative_X, test_iterative_X, train_iterative_Y, test_iterative_Y = train_test_split(X_iterative_resampled,y_target_resampled,test_size=0.2,random_state=8123)"
      ]
    },
    {
      "cell_type": "markdown",
      "metadata": {
        "id": "p32CMu4SNEQb"
      },
      "source": [
        "#8. Training models (for both imputed datasets):\n",
        "**a.** choose three classification algorithms, one must be either random forest or XGBoost or catboost, and apply the algorithms on the train set.  \n",
        "\n",
        "**b.** apply hyperparameter tuning on at least two algorithms using gridsearchCV function.\n",
        "\n",
        "**c.** print the best hyperparameters for the three models.\n",
        "\n",
        "Reminder, if the tuned model is named \"grid\" than to get the best hyperparameter combination use the following function:\n",
        "\n",
        "\n",
        "```\n",
        "grid.best_params_\n",
        "```\n",
        "\n",
        "\n",
        "\n"
      ]
    },
    {
      "cell_type": "markdown",
      "metadata": {
        "id": "Ki9wpfzvNNav"
      },
      "source": [
        "GridSearchCV of two models (Random Forest,Support Vector Machine) with imputed dataset by median and training logistic regression model"
      ]
    },
    {
      "cell_type": "code",
      "execution_count": null,
      "metadata": {
        "id": "cRYFMqZgvYgU",
        "colab": {
          "base_uri": "https://localhost:8080/"
        },
        "outputId": "c1f7c925-d9a1-49b3-b323-5668240490d8"
      },
      "outputs": [
        {
          "output_type": "stream",
          "name": "stdout",
          "text": [
            "Random Forest Classifier's grid search results for median imputed datasets:\n",
            "\n",
            "The best parameters across ALL searched params:\n",
            " {'criterion': 'entropy', 'max_depth': 9, 'max_features': 'sqrt', 'n_estimators': 55}\n"
          ]
        }
      ],
      "source": [
        "random_forest_median = RandomForestClassifier(random_state=8123)\n",
        "median_param_grid ={\n",
        "    'n_estimators' : [50,55,60],\n",
        "    'max_depth': [8,9,10],\n",
        "    'max_features' :['sqrt','log2'],\n",
        "    'criterion' :['gini','entropy']\n",
        "\n",
        "}\n",
        "gs_rfc_median = GridSearchCV(estimator=random_forest_median, param_grid=median_param_grid, n_jobs=-1)\n",
        "gs_rfc_median.fit(train_median_X,train_median_Y)\n",
        "\n",
        "print(\"Random Forest Classifier's grid search results for median imputed datasets:\")\n",
        "print(\"\\nThe best parameters across ALL searched params:\\n\",gs_rfc_median.best_params_)"
      ]
    },
    {
      "cell_type": "code",
      "source": [
        "#Training the model with the best parameters found\n",
        "random_forest_median=RandomForestClassifier(n_estimators=55,max_depth=9, max_features='sqrt', criterion='entropy', random_state=8123)\n",
        "random_forest_median.fit(train_median_X, train_median_Y)"
      ],
      "metadata": {
        "id": "RgK_pCsfiyrm",
        "colab": {
          "base_uri": "https://localhost:8080/",
          "height": 92
        },
        "outputId": "0cc6eeec-7c97-4707-b4df-6d767dd12bca"
      },
      "execution_count": null,
      "outputs": [
        {
          "output_type": "execute_result",
          "data": {
            "text/plain": [
              "RandomForestClassifier(criterion='entropy', max_depth=9, n_estimators=55,\n",
              "                       random_state=8123)"
            ],
            "text/html": [
              "<style>#sk-container-id-8 {color: black;background-color: white;}#sk-container-id-8 pre{padding: 0;}#sk-container-id-8 div.sk-toggleable {background-color: white;}#sk-container-id-8 label.sk-toggleable__label {cursor: pointer;display: block;width: 100%;margin-bottom: 0;padding: 0.3em;box-sizing: border-box;text-align: center;}#sk-container-id-8 label.sk-toggleable__label-arrow:before {content: \"▸\";float: left;margin-right: 0.25em;color: #696969;}#sk-container-id-8 label.sk-toggleable__label-arrow:hover:before {color: black;}#sk-container-id-8 div.sk-estimator:hover label.sk-toggleable__label-arrow:before {color: black;}#sk-container-id-8 div.sk-toggleable__content {max-height: 0;max-width: 0;overflow: hidden;text-align: left;background-color: #f0f8ff;}#sk-container-id-8 div.sk-toggleable__content pre {margin: 0.2em;color: black;border-radius: 0.25em;background-color: #f0f8ff;}#sk-container-id-8 input.sk-toggleable__control:checked~div.sk-toggleable__content {max-height: 200px;max-width: 100%;overflow: auto;}#sk-container-id-8 input.sk-toggleable__control:checked~label.sk-toggleable__label-arrow:before {content: \"▾\";}#sk-container-id-8 div.sk-estimator input.sk-toggleable__control:checked~label.sk-toggleable__label {background-color: #d4ebff;}#sk-container-id-8 div.sk-label input.sk-toggleable__control:checked~label.sk-toggleable__label {background-color: #d4ebff;}#sk-container-id-8 input.sk-hidden--visually {border: 0;clip: rect(1px 1px 1px 1px);clip: rect(1px, 1px, 1px, 1px);height: 1px;margin: -1px;overflow: hidden;padding: 0;position: absolute;width: 1px;}#sk-container-id-8 div.sk-estimator {font-family: monospace;background-color: #f0f8ff;border: 1px dotted black;border-radius: 0.25em;box-sizing: border-box;margin-bottom: 0.5em;}#sk-container-id-8 div.sk-estimator:hover {background-color: #d4ebff;}#sk-container-id-8 div.sk-parallel-item::after {content: \"\";width: 100%;border-bottom: 1px solid gray;flex-grow: 1;}#sk-container-id-8 div.sk-label:hover label.sk-toggleable__label {background-color: #d4ebff;}#sk-container-id-8 div.sk-serial::before {content: \"\";position: absolute;border-left: 1px solid gray;box-sizing: border-box;top: 0;bottom: 0;left: 50%;z-index: 0;}#sk-container-id-8 div.sk-serial {display: flex;flex-direction: column;align-items: center;background-color: white;padding-right: 0.2em;padding-left: 0.2em;position: relative;}#sk-container-id-8 div.sk-item {position: relative;z-index: 1;}#sk-container-id-8 div.sk-parallel {display: flex;align-items: stretch;justify-content: center;background-color: white;position: relative;}#sk-container-id-8 div.sk-item::before, #sk-container-id-8 div.sk-parallel-item::before {content: \"\";position: absolute;border-left: 1px solid gray;box-sizing: border-box;top: 0;bottom: 0;left: 50%;z-index: -1;}#sk-container-id-8 div.sk-parallel-item {display: flex;flex-direction: column;z-index: 1;position: relative;background-color: white;}#sk-container-id-8 div.sk-parallel-item:first-child::after {align-self: flex-end;width: 50%;}#sk-container-id-8 div.sk-parallel-item:last-child::after {align-self: flex-start;width: 50%;}#sk-container-id-8 div.sk-parallel-item:only-child::after {width: 0;}#sk-container-id-8 div.sk-dashed-wrapped {border: 1px dashed gray;margin: 0 0.4em 0.5em 0.4em;box-sizing: border-box;padding-bottom: 0.4em;background-color: white;}#sk-container-id-8 div.sk-label label {font-family: monospace;font-weight: bold;display: inline-block;line-height: 1.2em;}#sk-container-id-8 div.sk-label-container {text-align: center;}#sk-container-id-8 div.sk-container {/* jupyter's `normalize.less` sets `[hidden] { display: none; }` but bootstrap.min.css set `[hidden] { display: none !important; }` so we also need the `!important` here to be able to override the default hidden behavior on the sphinx rendered scikit-learn.org. See: https://github.com/scikit-learn/scikit-learn/issues/21755 */display: inline-block !important;position: relative;}#sk-container-id-8 div.sk-text-repr-fallback {display: none;}</style><div id=\"sk-container-id-8\" class=\"sk-top-container\"><div class=\"sk-text-repr-fallback\"><pre>RandomForestClassifier(criterion=&#x27;entropy&#x27;, max_depth=9, n_estimators=55,\n",
              "                       random_state=8123)</pre><b>In a Jupyter environment, please rerun this cell to show the HTML representation or trust the notebook. <br />On GitHub, the HTML representation is unable to render, please try loading this page with nbviewer.org.</b></div><div class=\"sk-container\" hidden><div class=\"sk-item\"><div class=\"sk-estimator sk-toggleable\"><input class=\"sk-toggleable__control sk-hidden--visually\" id=\"sk-estimator-id-8\" type=\"checkbox\" checked><label for=\"sk-estimator-id-8\" class=\"sk-toggleable__label sk-toggleable__label-arrow\">RandomForestClassifier</label><div class=\"sk-toggleable__content\"><pre>RandomForestClassifier(criterion=&#x27;entropy&#x27;, max_depth=9, n_estimators=55,\n",
              "                       random_state=8123)</pre></div></div></div></div></div>"
            ]
          },
          "metadata": {},
          "execution_count": 62
        }
      ]
    },
    {
      "cell_type": "code",
      "execution_count": null,
      "metadata": {
        "id": "OK9L_maCKquQ",
        "colab": {
          "base_uri": "https://localhost:8080/"
        },
        "outputId": "019cd835-9b0d-4ba0-d2c1-be0289b8c9be"
      },
      "outputs": [
        {
          "output_type": "stream",
          "name": "stdout",
          "text": [
            "Support Vector Classifier's grid search results median imputed datasets:\n",
            "\n",
            "The best parameters across ALL searched params:\n",
            " {'C': 5, 'gamma': 0, 'kernel': 'linear'}\n"
          ]
        }
      ],
      "source": [
        "svc_median=SVC(random_state=8123)\n",
        "\n",
        "median_param_grid_svc = {\n",
        "    'C': [4.5,5,5.5],\n",
        "    'gamma': [0,0.0125,0.025]\n",
        "    ,'kernel' : ['rbf','linear','poly']\n",
        "}\n",
        "\n",
        "gs_svc_median = GridSearchCV(estimator=svc_median, param_grid=median_param_grid_svc, n_jobs=-1)\n",
        "gs_svc_median.fit(train_median_X, train_median_Y)\n",
        "\n",
        "print(\"Support Vector Classifier's grid search results median imputed datasets:\")\n",
        "print(\"\\nThe best parameters across ALL searched params:\\n\",gs_svc_median.best_params_)"
      ]
    },
    {
      "cell_type": "code",
      "source": [
        "#Training the model with the best parameters found\n",
        "svc_median=SVC(C=5, gamma=0, kernel='linear',random_state=8123)\n",
        "svc_median.fit(train_median_X, train_median_Y)"
      ],
      "metadata": {
        "id": "4C33RuEpjLPl",
        "colab": {
          "base_uri": "https://localhost:8080/",
          "height": 75
        },
        "outputId": "df50dbeb-a8ce-42c7-fc20-12aeae034441"
      },
      "execution_count": null,
      "outputs": [
        {
          "output_type": "execute_result",
          "data": {
            "text/plain": [
              "SVC(C=5, gamma=0, kernel='linear', random_state=8123)"
            ],
            "text/html": [
              "<style>#sk-container-id-1 {color: black;background-color: white;}#sk-container-id-1 pre{padding: 0;}#sk-container-id-1 div.sk-toggleable {background-color: white;}#sk-container-id-1 label.sk-toggleable__label {cursor: pointer;display: block;width: 100%;margin-bottom: 0;padding: 0.3em;box-sizing: border-box;text-align: center;}#sk-container-id-1 label.sk-toggleable__label-arrow:before {content: \"▸\";float: left;margin-right: 0.25em;color: #696969;}#sk-container-id-1 label.sk-toggleable__label-arrow:hover:before {color: black;}#sk-container-id-1 div.sk-estimator:hover label.sk-toggleable__label-arrow:before {color: black;}#sk-container-id-1 div.sk-toggleable__content {max-height: 0;max-width: 0;overflow: hidden;text-align: left;background-color: #f0f8ff;}#sk-container-id-1 div.sk-toggleable__content pre {margin: 0.2em;color: black;border-radius: 0.25em;background-color: #f0f8ff;}#sk-container-id-1 input.sk-toggleable__control:checked~div.sk-toggleable__content {max-height: 200px;max-width: 100%;overflow: auto;}#sk-container-id-1 input.sk-toggleable__control:checked~label.sk-toggleable__label-arrow:before {content: \"▾\";}#sk-container-id-1 div.sk-estimator input.sk-toggleable__control:checked~label.sk-toggleable__label {background-color: #d4ebff;}#sk-container-id-1 div.sk-label input.sk-toggleable__control:checked~label.sk-toggleable__label {background-color: #d4ebff;}#sk-container-id-1 input.sk-hidden--visually {border: 0;clip: rect(1px 1px 1px 1px);clip: rect(1px, 1px, 1px, 1px);height: 1px;margin: -1px;overflow: hidden;padding: 0;position: absolute;width: 1px;}#sk-container-id-1 div.sk-estimator {font-family: monospace;background-color: #f0f8ff;border: 1px dotted black;border-radius: 0.25em;box-sizing: border-box;margin-bottom: 0.5em;}#sk-container-id-1 div.sk-estimator:hover {background-color: #d4ebff;}#sk-container-id-1 div.sk-parallel-item::after {content: \"\";width: 100%;border-bottom: 1px solid gray;flex-grow: 1;}#sk-container-id-1 div.sk-label:hover label.sk-toggleable__label {background-color: #d4ebff;}#sk-container-id-1 div.sk-serial::before {content: \"\";position: absolute;border-left: 1px solid gray;box-sizing: border-box;top: 0;bottom: 0;left: 50%;z-index: 0;}#sk-container-id-1 div.sk-serial {display: flex;flex-direction: column;align-items: center;background-color: white;padding-right: 0.2em;padding-left: 0.2em;position: relative;}#sk-container-id-1 div.sk-item {position: relative;z-index: 1;}#sk-container-id-1 div.sk-parallel {display: flex;align-items: stretch;justify-content: center;background-color: white;position: relative;}#sk-container-id-1 div.sk-item::before, #sk-container-id-1 div.sk-parallel-item::before {content: \"\";position: absolute;border-left: 1px solid gray;box-sizing: border-box;top: 0;bottom: 0;left: 50%;z-index: -1;}#sk-container-id-1 div.sk-parallel-item {display: flex;flex-direction: column;z-index: 1;position: relative;background-color: white;}#sk-container-id-1 div.sk-parallel-item:first-child::after {align-self: flex-end;width: 50%;}#sk-container-id-1 div.sk-parallel-item:last-child::after {align-self: flex-start;width: 50%;}#sk-container-id-1 div.sk-parallel-item:only-child::after {width: 0;}#sk-container-id-1 div.sk-dashed-wrapped {border: 1px dashed gray;margin: 0 0.4em 0.5em 0.4em;box-sizing: border-box;padding-bottom: 0.4em;background-color: white;}#sk-container-id-1 div.sk-label label {font-family: monospace;font-weight: bold;display: inline-block;line-height: 1.2em;}#sk-container-id-1 div.sk-label-container {text-align: center;}#sk-container-id-1 div.sk-container {/* jupyter's `normalize.less` sets `[hidden] { display: none; }` but bootstrap.min.css set `[hidden] { display: none !important; }` so we also need the `!important` here to be able to override the default hidden behavior on the sphinx rendered scikit-learn.org. See: https://github.com/scikit-learn/scikit-learn/issues/21755 */display: inline-block !important;position: relative;}#sk-container-id-1 div.sk-text-repr-fallback {display: none;}</style><div id=\"sk-container-id-1\" class=\"sk-top-container\"><div class=\"sk-text-repr-fallback\"><pre>SVC(C=5, gamma=0, kernel=&#x27;linear&#x27;, random_state=8123)</pre><b>In a Jupyter environment, please rerun this cell to show the HTML representation or trust the notebook. <br />On GitHub, the HTML representation is unable to render, please try loading this page with nbviewer.org.</b></div><div class=\"sk-container\" hidden><div class=\"sk-item\"><div class=\"sk-estimator sk-toggleable\"><input class=\"sk-toggleable__control sk-hidden--visually\" id=\"sk-estimator-id-1\" type=\"checkbox\" checked><label for=\"sk-estimator-id-1\" class=\"sk-toggleable__label sk-toggleable__label-arrow\">SVC</label><div class=\"sk-toggleable__content\"><pre>SVC(C=5, gamma=0, kernel=&#x27;linear&#x27;, random_state=8123)</pre></div></div></div></div></div>"
            ]
          },
          "metadata": {},
          "execution_count": 25
        }
      ]
    },
    {
      "cell_type": "code",
      "source": [
        "#Training logistic regression model\n",
        "logistic_median = LogisticRegression(random_state=8123).fit(train_median_X, train_median_Y)"
      ],
      "metadata": {
        "id": "SpKMG3-ciIjq"
      },
      "execution_count": null,
      "outputs": []
    },
    {
      "cell_type": "markdown",
      "metadata": {
        "id": "59orN91IN7N8"
      },
      "source": [
        "GridSearchCV of two models (Random Forest,Support Vector Machine) with imputed dataset by mean and training logistic regression model"
      ]
    },
    {
      "cell_type": "code",
      "execution_count": null,
      "metadata": {
        "id": "z4ZAX1pHN-cs",
        "colab": {
          "base_uri": "https://localhost:8080/"
        },
        "outputId": "2d216d3d-e3f1-41ef-828e-a12f1a26ba82"
      },
      "outputs": [
        {
          "output_type": "stream",
          "name": "stdout",
          "text": [
            "Random Forest Classifier's grid search results for mean imputed datasets:\n",
            "\n",
            "The best parameters across ALL searched params:\n",
            " {'criterion': 'entropy', 'max_depth': 8, 'max_features': 'sqrt', 'n_estimators': 55}\n"
          ]
        }
      ],
      "source": [
        "random_forest_mean = RandomForestClassifier(random_state=8123)\n",
        "mean_param_grid ={\n",
        "    'n_estimators' : [50,55,60],\n",
        "    'max_depth': [7,8,9],\n",
        "    'max_features' :['sqrt','log2'],\n",
        "    'criterion' :['gini','entropy']\n",
        "}\n",
        "gs_rfc_mean = GridSearchCV(estimator=random_forest_mean, param_grid=mean_param_grid, n_jobs=-1)\n",
        "gs_rfc_mean.fit(train_mean_X,train_mean_Y)\n",
        "\n",
        "print(\"Random Forest Classifier's grid search results for mean imputed datasets:\")\n",
        "print(\"\\nThe best parameters across ALL searched params:\\n\",gs_rfc_mean.best_params_)"
      ]
    },
    {
      "cell_type": "code",
      "source": [
        "#Training the model with the best parameters found\n",
        "random_forest_mean=RandomForestClassifier(n_estimators=55,max_depth=8, max_features='sqrt', criterion='entropy', random_state=8123)\n",
        "random_forest_mean.fit(train_mean_X, train_mean_Y)"
      ],
      "metadata": {
        "id": "B0JsxzdSkvJJ",
        "colab": {
          "base_uri": "https://localhost:8080/",
          "height": 92
        },
        "outputId": "e5555138-904f-461c-9e77-c8bf29078407"
      },
      "execution_count": null,
      "outputs": [
        {
          "output_type": "execute_result",
          "data": {
            "text/plain": [
              "RandomForestClassifier(criterion='entropy', max_depth=8, n_estimators=55,\n",
              "                       random_state=8123)"
            ],
            "text/html": [
              "<style>#sk-container-id-10 {color: black;background-color: white;}#sk-container-id-10 pre{padding: 0;}#sk-container-id-10 div.sk-toggleable {background-color: white;}#sk-container-id-10 label.sk-toggleable__label {cursor: pointer;display: block;width: 100%;margin-bottom: 0;padding: 0.3em;box-sizing: border-box;text-align: center;}#sk-container-id-10 label.sk-toggleable__label-arrow:before {content: \"▸\";float: left;margin-right: 0.25em;color: #696969;}#sk-container-id-10 label.sk-toggleable__label-arrow:hover:before {color: black;}#sk-container-id-10 div.sk-estimator:hover label.sk-toggleable__label-arrow:before {color: black;}#sk-container-id-10 div.sk-toggleable__content {max-height: 0;max-width: 0;overflow: hidden;text-align: left;background-color: #f0f8ff;}#sk-container-id-10 div.sk-toggleable__content pre {margin: 0.2em;color: black;border-radius: 0.25em;background-color: #f0f8ff;}#sk-container-id-10 input.sk-toggleable__control:checked~div.sk-toggleable__content {max-height: 200px;max-width: 100%;overflow: auto;}#sk-container-id-10 input.sk-toggleable__control:checked~label.sk-toggleable__label-arrow:before {content: \"▾\";}#sk-container-id-10 div.sk-estimator input.sk-toggleable__control:checked~label.sk-toggleable__label {background-color: #d4ebff;}#sk-container-id-10 div.sk-label input.sk-toggleable__control:checked~label.sk-toggleable__label {background-color: #d4ebff;}#sk-container-id-10 input.sk-hidden--visually {border: 0;clip: rect(1px 1px 1px 1px);clip: rect(1px, 1px, 1px, 1px);height: 1px;margin: -1px;overflow: hidden;padding: 0;position: absolute;width: 1px;}#sk-container-id-10 div.sk-estimator {font-family: monospace;background-color: #f0f8ff;border: 1px dotted black;border-radius: 0.25em;box-sizing: border-box;margin-bottom: 0.5em;}#sk-container-id-10 div.sk-estimator:hover {background-color: #d4ebff;}#sk-container-id-10 div.sk-parallel-item::after {content: \"\";width: 100%;border-bottom: 1px solid gray;flex-grow: 1;}#sk-container-id-10 div.sk-label:hover label.sk-toggleable__label {background-color: #d4ebff;}#sk-container-id-10 div.sk-serial::before {content: \"\";position: absolute;border-left: 1px solid gray;box-sizing: border-box;top: 0;bottom: 0;left: 50%;z-index: 0;}#sk-container-id-10 div.sk-serial {display: flex;flex-direction: column;align-items: center;background-color: white;padding-right: 0.2em;padding-left: 0.2em;position: relative;}#sk-container-id-10 div.sk-item {position: relative;z-index: 1;}#sk-container-id-10 div.sk-parallel {display: flex;align-items: stretch;justify-content: center;background-color: white;position: relative;}#sk-container-id-10 div.sk-item::before, #sk-container-id-10 div.sk-parallel-item::before {content: \"\";position: absolute;border-left: 1px solid gray;box-sizing: border-box;top: 0;bottom: 0;left: 50%;z-index: -1;}#sk-container-id-10 div.sk-parallel-item {display: flex;flex-direction: column;z-index: 1;position: relative;background-color: white;}#sk-container-id-10 div.sk-parallel-item:first-child::after {align-self: flex-end;width: 50%;}#sk-container-id-10 div.sk-parallel-item:last-child::after {align-self: flex-start;width: 50%;}#sk-container-id-10 div.sk-parallel-item:only-child::after {width: 0;}#sk-container-id-10 div.sk-dashed-wrapped {border: 1px dashed gray;margin: 0 0.4em 0.5em 0.4em;box-sizing: border-box;padding-bottom: 0.4em;background-color: white;}#sk-container-id-10 div.sk-label label {font-family: monospace;font-weight: bold;display: inline-block;line-height: 1.2em;}#sk-container-id-10 div.sk-label-container {text-align: center;}#sk-container-id-10 div.sk-container {/* jupyter's `normalize.less` sets `[hidden] { display: none; }` but bootstrap.min.css set `[hidden] { display: none !important; }` so we also need the `!important` here to be able to override the default hidden behavior on the sphinx rendered scikit-learn.org. See: https://github.com/scikit-learn/scikit-learn/issues/21755 */display: inline-block !important;position: relative;}#sk-container-id-10 div.sk-text-repr-fallback {display: none;}</style><div id=\"sk-container-id-10\" class=\"sk-top-container\"><div class=\"sk-text-repr-fallback\"><pre>RandomForestClassifier(criterion=&#x27;entropy&#x27;, max_depth=8, n_estimators=55,\n",
              "                       random_state=8123)</pre><b>In a Jupyter environment, please rerun this cell to show the HTML representation or trust the notebook. <br />On GitHub, the HTML representation is unable to render, please try loading this page with nbviewer.org.</b></div><div class=\"sk-container\" hidden><div class=\"sk-item\"><div class=\"sk-estimator sk-toggleable\"><input class=\"sk-toggleable__control sk-hidden--visually\" id=\"sk-estimator-id-10\" type=\"checkbox\" checked><label for=\"sk-estimator-id-10\" class=\"sk-toggleable__label sk-toggleable__label-arrow\">RandomForestClassifier</label><div class=\"sk-toggleable__content\"><pre>RandomForestClassifier(criterion=&#x27;entropy&#x27;, max_depth=8, n_estimators=55,\n",
              "                       random_state=8123)</pre></div></div></div></div></div>"
            ]
          },
          "metadata": {},
          "execution_count": 65
        }
      ]
    },
    {
      "cell_type": "code",
      "execution_count": null,
      "metadata": {
        "id": "Kj__16iPN-Po",
        "colab": {
          "base_uri": "https://localhost:8080/"
        },
        "outputId": "e14432e6-fd2d-4c1b-af3c-dd8934f724e1"
      },
      "outputs": [
        {
          "output_type": "stream",
          "name": "stdout",
          "text": [
            "Support Vector Classifier's grid search results mean imputed datasets:\n",
            "\n",
            "The best parameters across ALL searched params:\n",
            " {'C': 5.5, 'gamma': 0, 'kernel': 'linear'}\n"
          ]
        }
      ],
      "source": [
        "svc_mean=SVC(random_state=8123)\n",
        "mean_param_grid_svc = {\n",
        "    'C': [5,5.5,6],\n",
        "    'gamma': [0]\n",
        "    , 'kernel' :['linear']\n",
        "}\n",
        "gs_svc_mean = GridSearchCV(estimator=svc_mean, param_grid=mean_param_grid_svc, n_jobs=-1)\n",
        "gs_svc_mean.fit(train_mean_X, train_mean_Y)\n",
        "\n",
        "print(\"Support Vector Classifier's grid search results mean imputed datasets:\")\n",
        "print(\"\\nThe best parameters across ALL searched params:\\n\",gs_svc_mean.best_params_)"
      ]
    },
    {
      "cell_type": "code",
      "source": [
        "#Training the model with the best parameters found\n",
        "svc_mean=SVC(C=5.5, gamma=0, kernel='linear',random_state=8123)\n",
        "svc_mean.fit(train_mean_X, train_mean_Y)"
      ],
      "metadata": {
        "id": "gt9rEAvQmr5G",
        "colab": {
          "base_uri": "https://localhost:8080/",
          "height": 74
        },
        "outputId": "5fa10fe7-dfdb-4510-8fae-7e7987a759a8"
      },
      "execution_count": null,
      "outputs": [
        {
          "output_type": "execute_result",
          "data": {
            "text/plain": [
              "SVC(C=5.5, gamma=0, kernel='linear', random_state=8123)"
            ],
            "text/html": [
              "<style>#sk-container-id-2 {color: black;background-color: white;}#sk-container-id-2 pre{padding: 0;}#sk-container-id-2 div.sk-toggleable {background-color: white;}#sk-container-id-2 label.sk-toggleable__label {cursor: pointer;display: block;width: 100%;margin-bottom: 0;padding: 0.3em;box-sizing: border-box;text-align: center;}#sk-container-id-2 label.sk-toggleable__label-arrow:before {content: \"▸\";float: left;margin-right: 0.25em;color: #696969;}#sk-container-id-2 label.sk-toggleable__label-arrow:hover:before {color: black;}#sk-container-id-2 div.sk-estimator:hover label.sk-toggleable__label-arrow:before {color: black;}#sk-container-id-2 div.sk-toggleable__content {max-height: 0;max-width: 0;overflow: hidden;text-align: left;background-color: #f0f8ff;}#sk-container-id-2 div.sk-toggleable__content pre {margin: 0.2em;color: black;border-radius: 0.25em;background-color: #f0f8ff;}#sk-container-id-2 input.sk-toggleable__control:checked~div.sk-toggleable__content {max-height: 200px;max-width: 100%;overflow: auto;}#sk-container-id-2 input.sk-toggleable__control:checked~label.sk-toggleable__label-arrow:before {content: \"▾\";}#sk-container-id-2 div.sk-estimator input.sk-toggleable__control:checked~label.sk-toggleable__label {background-color: #d4ebff;}#sk-container-id-2 div.sk-label input.sk-toggleable__control:checked~label.sk-toggleable__label {background-color: #d4ebff;}#sk-container-id-2 input.sk-hidden--visually {border: 0;clip: rect(1px 1px 1px 1px);clip: rect(1px, 1px, 1px, 1px);height: 1px;margin: -1px;overflow: hidden;padding: 0;position: absolute;width: 1px;}#sk-container-id-2 div.sk-estimator {font-family: monospace;background-color: #f0f8ff;border: 1px dotted black;border-radius: 0.25em;box-sizing: border-box;margin-bottom: 0.5em;}#sk-container-id-2 div.sk-estimator:hover {background-color: #d4ebff;}#sk-container-id-2 div.sk-parallel-item::after {content: \"\";width: 100%;border-bottom: 1px solid gray;flex-grow: 1;}#sk-container-id-2 div.sk-label:hover label.sk-toggleable__label {background-color: #d4ebff;}#sk-container-id-2 div.sk-serial::before {content: \"\";position: absolute;border-left: 1px solid gray;box-sizing: border-box;top: 0;bottom: 0;left: 50%;z-index: 0;}#sk-container-id-2 div.sk-serial {display: flex;flex-direction: column;align-items: center;background-color: white;padding-right: 0.2em;padding-left: 0.2em;position: relative;}#sk-container-id-2 div.sk-item {position: relative;z-index: 1;}#sk-container-id-2 div.sk-parallel {display: flex;align-items: stretch;justify-content: center;background-color: white;position: relative;}#sk-container-id-2 div.sk-item::before, #sk-container-id-2 div.sk-parallel-item::before {content: \"\";position: absolute;border-left: 1px solid gray;box-sizing: border-box;top: 0;bottom: 0;left: 50%;z-index: -1;}#sk-container-id-2 div.sk-parallel-item {display: flex;flex-direction: column;z-index: 1;position: relative;background-color: white;}#sk-container-id-2 div.sk-parallel-item:first-child::after {align-self: flex-end;width: 50%;}#sk-container-id-2 div.sk-parallel-item:last-child::after {align-self: flex-start;width: 50%;}#sk-container-id-2 div.sk-parallel-item:only-child::after {width: 0;}#sk-container-id-2 div.sk-dashed-wrapped {border: 1px dashed gray;margin: 0 0.4em 0.5em 0.4em;box-sizing: border-box;padding-bottom: 0.4em;background-color: white;}#sk-container-id-2 div.sk-label label {font-family: monospace;font-weight: bold;display: inline-block;line-height: 1.2em;}#sk-container-id-2 div.sk-label-container {text-align: center;}#sk-container-id-2 div.sk-container {/* jupyter's `normalize.less` sets `[hidden] { display: none; }` but bootstrap.min.css set `[hidden] { display: none !important; }` so we also need the `!important` here to be able to override the default hidden behavior on the sphinx rendered scikit-learn.org. See: https://github.com/scikit-learn/scikit-learn/issues/21755 */display: inline-block !important;position: relative;}#sk-container-id-2 div.sk-text-repr-fallback {display: none;}</style><div id=\"sk-container-id-2\" class=\"sk-top-container\"><div class=\"sk-text-repr-fallback\"><pre>SVC(C=5.5, gamma=0, kernel=&#x27;linear&#x27;, random_state=8123)</pre><b>In a Jupyter environment, please rerun this cell to show the HTML representation or trust the notebook. <br />On GitHub, the HTML representation is unable to render, please try loading this page with nbviewer.org.</b></div><div class=\"sk-container\" hidden><div class=\"sk-item\"><div class=\"sk-estimator sk-toggleable\"><input class=\"sk-toggleable__control sk-hidden--visually\" id=\"sk-estimator-id-2\" type=\"checkbox\" checked><label for=\"sk-estimator-id-2\" class=\"sk-toggleable__label sk-toggleable__label-arrow\">SVC</label><div class=\"sk-toggleable__content\"><pre>SVC(C=5.5, gamma=0, kernel=&#x27;linear&#x27;, random_state=8123)</pre></div></div></div></div></div>"
            ]
          },
          "metadata": {},
          "execution_count": 22
        }
      ]
    },
    {
      "cell_type": "code",
      "source": [
        "#Training logistic regression model\n",
        "logistic_mean = LogisticRegression(random_state=8123).fit(train_mean_X, train_mean_Y)"
      ],
      "metadata": {
        "id": "JGQiDTUCkIUT"
      },
      "execution_count": null,
      "outputs": []
    },
    {
      "cell_type": "markdown",
      "metadata": {
        "id": "TzhcUwwFNico"
      },
      "source": [
        "GridSearchCV of two models (Random Forest,Support Vector Machine) with imputed dataset by iterative and training logistic regression model"
      ]
    },
    {
      "cell_type": "code",
      "execution_count": null,
      "metadata": {
        "id": "BW9F7nYNvYv8",
        "colab": {
          "base_uri": "https://localhost:8080/"
        },
        "outputId": "898479ae-cf45-4569-e1a3-1b100200b360"
      },
      "outputs": [
        {
          "output_type": "stream",
          "name": "stdout",
          "text": [
            "Random Forest Classifier's grid search results:\n",
            "\n",
            "The best parameters across ALL searched params:\n",
            " {'criterion': 'entropy', 'max_depth': 7, 'max_features': 'sqrt', 'n_estimators': 75}\n"
          ]
        }
      ],
      "source": [
        "random_forest_iterative=RandomForestClassifier(random_state=8123)\n",
        "\n",
        "rfc_param_grid = {\n",
        "    'n_estimators': [70,75,80],\n",
        "    'max_depth': [6,7,8],\n",
        "    'max_features': ['sqrt', 'log2'],\n",
        "    'criterion' :['gini', 'entropy']\n",
        "}\n",
        "\n",
        "gs_rfc_iterative = GridSearchCV(estimator=random_forest_iterative, param_grid=rfc_param_grid, n_jobs=-1)\n",
        "gs_rfc_iterative.fit(train_iterative_X, train_iterative_Y)\n",
        "\n",
        "print(\"Random Forest Classifier's grid search results:\")\n",
        "print(\"\\nThe best parameters across ALL searched params:\\n\",gs_rfc_iterative.best_params_)"
      ]
    },
    {
      "cell_type": "code",
      "source": [
        "#Training the model with the best parameters found\n",
        "random_forest_iterative=RandomForestClassifier(n_estimators=75, max_features='sqrt', max_depth=7, criterion='entropy', random_state=8123)\n",
        "random_forest_iterative.fit(train_iterative_X, train_iterative_Y)"
      ],
      "metadata": {
        "id": "4sGY8TTidmN-",
        "colab": {
          "base_uri": "https://localhost:8080/",
          "height": 92
        },
        "outputId": "d020eca2-4f8b-4e98-c904-270f8b5a476f"
      },
      "execution_count": null,
      "outputs": [
        {
          "output_type": "execute_result",
          "data": {
            "text/plain": [
              "RandomForestClassifier(criterion='entropy', max_depth=7, n_estimators=75,\n",
              "                       random_state=8123)"
            ],
            "text/html": [
              "<style>#sk-container-id-12 {color: black;background-color: white;}#sk-container-id-12 pre{padding: 0;}#sk-container-id-12 div.sk-toggleable {background-color: white;}#sk-container-id-12 label.sk-toggleable__label {cursor: pointer;display: block;width: 100%;margin-bottom: 0;padding: 0.3em;box-sizing: border-box;text-align: center;}#sk-container-id-12 label.sk-toggleable__label-arrow:before {content: \"▸\";float: left;margin-right: 0.25em;color: #696969;}#sk-container-id-12 label.sk-toggleable__label-arrow:hover:before {color: black;}#sk-container-id-12 div.sk-estimator:hover label.sk-toggleable__label-arrow:before {color: black;}#sk-container-id-12 div.sk-toggleable__content {max-height: 0;max-width: 0;overflow: hidden;text-align: left;background-color: #f0f8ff;}#sk-container-id-12 div.sk-toggleable__content pre {margin: 0.2em;color: black;border-radius: 0.25em;background-color: #f0f8ff;}#sk-container-id-12 input.sk-toggleable__control:checked~div.sk-toggleable__content {max-height: 200px;max-width: 100%;overflow: auto;}#sk-container-id-12 input.sk-toggleable__control:checked~label.sk-toggleable__label-arrow:before {content: \"▾\";}#sk-container-id-12 div.sk-estimator input.sk-toggleable__control:checked~label.sk-toggleable__label {background-color: #d4ebff;}#sk-container-id-12 div.sk-label input.sk-toggleable__control:checked~label.sk-toggleable__label {background-color: #d4ebff;}#sk-container-id-12 input.sk-hidden--visually {border: 0;clip: rect(1px 1px 1px 1px);clip: rect(1px, 1px, 1px, 1px);height: 1px;margin: -1px;overflow: hidden;padding: 0;position: absolute;width: 1px;}#sk-container-id-12 div.sk-estimator {font-family: monospace;background-color: #f0f8ff;border: 1px dotted black;border-radius: 0.25em;box-sizing: border-box;margin-bottom: 0.5em;}#sk-container-id-12 div.sk-estimator:hover {background-color: #d4ebff;}#sk-container-id-12 div.sk-parallel-item::after {content: \"\";width: 100%;border-bottom: 1px solid gray;flex-grow: 1;}#sk-container-id-12 div.sk-label:hover label.sk-toggleable__label {background-color: #d4ebff;}#sk-container-id-12 div.sk-serial::before {content: \"\";position: absolute;border-left: 1px solid gray;box-sizing: border-box;top: 0;bottom: 0;left: 50%;z-index: 0;}#sk-container-id-12 div.sk-serial {display: flex;flex-direction: column;align-items: center;background-color: white;padding-right: 0.2em;padding-left: 0.2em;position: relative;}#sk-container-id-12 div.sk-item {position: relative;z-index: 1;}#sk-container-id-12 div.sk-parallel {display: flex;align-items: stretch;justify-content: center;background-color: white;position: relative;}#sk-container-id-12 div.sk-item::before, #sk-container-id-12 div.sk-parallel-item::before {content: \"\";position: absolute;border-left: 1px solid gray;box-sizing: border-box;top: 0;bottom: 0;left: 50%;z-index: -1;}#sk-container-id-12 div.sk-parallel-item {display: flex;flex-direction: column;z-index: 1;position: relative;background-color: white;}#sk-container-id-12 div.sk-parallel-item:first-child::after {align-self: flex-end;width: 50%;}#sk-container-id-12 div.sk-parallel-item:last-child::after {align-self: flex-start;width: 50%;}#sk-container-id-12 div.sk-parallel-item:only-child::after {width: 0;}#sk-container-id-12 div.sk-dashed-wrapped {border: 1px dashed gray;margin: 0 0.4em 0.5em 0.4em;box-sizing: border-box;padding-bottom: 0.4em;background-color: white;}#sk-container-id-12 div.sk-label label {font-family: monospace;font-weight: bold;display: inline-block;line-height: 1.2em;}#sk-container-id-12 div.sk-label-container {text-align: center;}#sk-container-id-12 div.sk-container {/* jupyter's `normalize.less` sets `[hidden] { display: none; }` but bootstrap.min.css set `[hidden] { display: none !important; }` so we also need the `!important` here to be able to override the default hidden behavior on the sphinx rendered scikit-learn.org. See: https://github.com/scikit-learn/scikit-learn/issues/21755 */display: inline-block !important;position: relative;}#sk-container-id-12 div.sk-text-repr-fallback {display: none;}</style><div id=\"sk-container-id-12\" class=\"sk-top-container\"><div class=\"sk-text-repr-fallback\"><pre>RandomForestClassifier(criterion=&#x27;entropy&#x27;, max_depth=7, n_estimators=75,\n",
              "                       random_state=8123)</pre><b>In a Jupyter environment, please rerun this cell to show the HTML representation or trust the notebook. <br />On GitHub, the HTML representation is unable to render, please try loading this page with nbviewer.org.</b></div><div class=\"sk-container\" hidden><div class=\"sk-item\"><div class=\"sk-estimator sk-toggleable\"><input class=\"sk-toggleable__control sk-hidden--visually\" id=\"sk-estimator-id-12\" type=\"checkbox\" checked><label for=\"sk-estimator-id-12\" class=\"sk-toggleable__label sk-toggleable__label-arrow\">RandomForestClassifier</label><div class=\"sk-toggleable__content\"><pre>RandomForestClassifier(criterion=&#x27;entropy&#x27;, max_depth=7, n_estimators=75,\n",
              "                       random_state=8123)</pre></div></div></div></div></div>"
            ]
          },
          "metadata": {},
          "execution_count": 68
        }
      ]
    },
    {
      "cell_type": "code",
      "execution_count": null,
      "metadata": {
        "id": "m2EEilXruxXh"
      },
      "outputs": [],
      "source": [
        "svc_iterative=SVC(random_state=8123)\n",
        "\n",
        "svc_param_grid = {\n",
        "    'C': [5.5,6,6.5],\n",
        "    'gamma': [0.05,0.1,0.15]\n",
        "    ,'kernel' :['rbf', 'linear', 'poly']\n",
        "}\n",
        "\n",
        "gs_svc_iterative = GridSearchCV(estimator=svc_iterative, param_grid=svc_param_grid, n_jobs=-1)\n",
        "gs_svc_iterative.fit(train_iterative_X, train_iterative_Y)\n",
        "\n",
        "print(\"Support Vector Classifier's grid search results:\")\n",
        "print(\"\\nThe best parameters across ALL searched params:\\n\",gs_svc_iterative.best_params_)"
      ]
    },
    {
      "cell_type": "code",
      "source": [
        "#Training the model with the best parameters found\n",
        "svc_iterative=SVC(C=6, gamma=0.1, kernel='rbf', random_state=8123)\n",
        "svc_iterative.fit(train_iterative_X, train_iterative_Y)"
      ],
      "metadata": {
        "id": "CbvYo3HJdvsR",
        "colab": {
          "base_uri": "https://localhost:8080/",
          "height": 75
        },
        "outputId": "59da8df8-9d49-47c6-ef0a-1078ff7c8b78"
      },
      "execution_count": null,
      "outputs": [
        {
          "output_type": "execute_result",
          "data": {
            "text/plain": [
              "SVC(C=6, gamma=0.1, random_state=8123)"
            ],
            "text/html": [
              "<style>#sk-container-id-13 {color: black;background-color: white;}#sk-container-id-13 pre{padding: 0;}#sk-container-id-13 div.sk-toggleable {background-color: white;}#sk-container-id-13 label.sk-toggleable__label {cursor: pointer;display: block;width: 100%;margin-bottom: 0;padding: 0.3em;box-sizing: border-box;text-align: center;}#sk-container-id-13 label.sk-toggleable__label-arrow:before {content: \"▸\";float: left;margin-right: 0.25em;color: #696969;}#sk-container-id-13 label.sk-toggleable__label-arrow:hover:before {color: black;}#sk-container-id-13 div.sk-estimator:hover label.sk-toggleable__label-arrow:before {color: black;}#sk-container-id-13 div.sk-toggleable__content {max-height: 0;max-width: 0;overflow: hidden;text-align: left;background-color: #f0f8ff;}#sk-container-id-13 div.sk-toggleable__content pre {margin: 0.2em;color: black;border-radius: 0.25em;background-color: #f0f8ff;}#sk-container-id-13 input.sk-toggleable__control:checked~div.sk-toggleable__content {max-height: 200px;max-width: 100%;overflow: auto;}#sk-container-id-13 input.sk-toggleable__control:checked~label.sk-toggleable__label-arrow:before {content: \"▾\";}#sk-container-id-13 div.sk-estimator input.sk-toggleable__control:checked~label.sk-toggleable__label {background-color: #d4ebff;}#sk-container-id-13 div.sk-label input.sk-toggleable__control:checked~label.sk-toggleable__label {background-color: #d4ebff;}#sk-container-id-13 input.sk-hidden--visually {border: 0;clip: rect(1px 1px 1px 1px);clip: rect(1px, 1px, 1px, 1px);height: 1px;margin: -1px;overflow: hidden;padding: 0;position: absolute;width: 1px;}#sk-container-id-13 div.sk-estimator {font-family: monospace;background-color: #f0f8ff;border: 1px dotted black;border-radius: 0.25em;box-sizing: border-box;margin-bottom: 0.5em;}#sk-container-id-13 div.sk-estimator:hover {background-color: #d4ebff;}#sk-container-id-13 div.sk-parallel-item::after {content: \"\";width: 100%;border-bottom: 1px solid gray;flex-grow: 1;}#sk-container-id-13 div.sk-label:hover label.sk-toggleable__label {background-color: #d4ebff;}#sk-container-id-13 div.sk-serial::before {content: \"\";position: absolute;border-left: 1px solid gray;box-sizing: border-box;top: 0;bottom: 0;left: 50%;z-index: 0;}#sk-container-id-13 div.sk-serial {display: flex;flex-direction: column;align-items: center;background-color: white;padding-right: 0.2em;padding-left: 0.2em;position: relative;}#sk-container-id-13 div.sk-item {position: relative;z-index: 1;}#sk-container-id-13 div.sk-parallel {display: flex;align-items: stretch;justify-content: center;background-color: white;position: relative;}#sk-container-id-13 div.sk-item::before, #sk-container-id-13 div.sk-parallel-item::before {content: \"\";position: absolute;border-left: 1px solid gray;box-sizing: border-box;top: 0;bottom: 0;left: 50%;z-index: -1;}#sk-container-id-13 div.sk-parallel-item {display: flex;flex-direction: column;z-index: 1;position: relative;background-color: white;}#sk-container-id-13 div.sk-parallel-item:first-child::after {align-self: flex-end;width: 50%;}#sk-container-id-13 div.sk-parallel-item:last-child::after {align-self: flex-start;width: 50%;}#sk-container-id-13 div.sk-parallel-item:only-child::after {width: 0;}#sk-container-id-13 div.sk-dashed-wrapped {border: 1px dashed gray;margin: 0 0.4em 0.5em 0.4em;box-sizing: border-box;padding-bottom: 0.4em;background-color: white;}#sk-container-id-13 div.sk-label label {font-family: monospace;font-weight: bold;display: inline-block;line-height: 1.2em;}#sk-container-id-13 div.sk-label-container {text-align: center;}#sk-container-id-13 div.sk-container {/* jupyter's `normalize.less` sets `[hidden] { display: none; }` but bootstrap.min.css set `[hidden] { display: none !important; }` so we also need the `!important` here to be able to override the default hidden behavior on the sphinx rendered scikit-learn.org. See: https://github.com/scikit-learn/scikit-learn/issues/21755 */display: inline-block !important;position: relative;}#sk-container-id-13 div.sk-text-repr-fallback {display: none;}</style><div id=\"sk-container-id-13\" class=\"sk-top-container\"><div class=\"sk-text-repr-fallback\"><pre>SVC(C=6, gamma=0.1, random_state=8123)</pre><b>In a Jupyter environment, please rerun this cell to show the HTML representation or trust the notebook. <br />On GitHub, the HTML representation is unable to render, please try loading this page with nbviewer.org.</b></div><div class=\"sk-container\" hidden><div class=\"sk-item\"><div class=\"sk-estimator sk-toggleable\"><input class=\"sk-toggleable__control sk-hidden--visually\" id=\"sk-estimator-id-13\" type=\"checkbox\" checked><label for=\"sk-estimator-id-13\" class=\"sk-toggleable__label sk-toggleable__label-arrow\">SVC</label><div class=\"sk-toggleable__content\"><pre>SVC(C=6, gamma=0.1, random_state=8123)</pre></div></div></div></div></div>"
            ]
          },
          "metadata": {},
          "execution_count": 69
        }
      ]
    },
    {
      "cell_type": "code",
      "source": [
        "#Training logistic regression model\n",
        "logistic_iterative=LogisticRegression(random_state=8123)\n",
        "logistic_iterative.fit(train_iterative_X, train_iterative_Y)"
      ],
      "metadata": {
        "id": "PwsZUFFSOcdY",
        "colab": {
          "base_uri": "https://localhost:8080/",
          "height": 75
        },
        "outputId": "6cb7f8a2-3b3f-403c-a58b-65a93b66826b"
      },
      "execution_count": null,
      "outputs": [
        {
          "output_type": "execute_result",
          "data": {
            "text/plain": [
              "LogisticRegression(random_state=8123)"
            ],
            "text/html": [
              "<style>#sk-container-id-14 {color: black;background-color: white;}#sk-container-id-14 pre{padding: 0;}#sk-container-id-14 div.sk-toggleable {background-color: white;}#sk-container-id-14 label.sk-toggleable__label {cursor: pointer;display: block;width: 100%;margin-bottom: 0;padding: 0.3em;box-sizing: border-box;text-align: center;}#sk-container-id-14 label.sk-toggleable__label-arrow:before {content: \"▸\";float: left;margin-right: 0.25em;color: #696969;}#sk-container-id-14 label.sk-toggleable__label-arrow:hover:before {color: black;}#sk-container-id-14 div.sk-estimator:hover label.sk-toggleable__label-arrow:before {color: black;}#sk-container-id-14 div.sk-toggleable__content {max-height: 0;max-width: 0;overflow: hidden;text-align: left;background-color: #f0f8ff;}#sk-container-id-14 div.sk-toggleable__content pre {margin: 0.2em;color: black;border-radius: 0.25em;background-color: #f0f8ff;}#sk-container-id-14 input.sk-toggleable__control:checked~div.sk-toggleable__content {max-height: 200px;max-width: 100%;overflow: auto;}#sk-container-id-14 input.sk-toggleable__control:checked~label.sk-toggleable__label-arrow:before {content: \"▾\";}#sk-container-id-14 div.sk-estimator input.sk-toggleable__control:checked~label.sk-toggleable__label {background-color: #d4ebff;}#sk-container-id-14 div.sk-label input.sk-toggleable__control:checked~label.sk-toggleable__label {background-color: #d4ebff;}#sk-container-id-14 input.sk-hidden--visually {border: 0;clip: rect(1px 1px 1px 1px);clip: rect(1px, 1px, 1px, 1px);height: 1px;margin: -1px;overflow: hidden;padding: 0;position: absolute;width: 1px;}#sk-container-id-14 div.sk-estimator {font-family: monospace;background-color: #f0f8ff;border: 1px dotted black;border-radius: 0.25em;box-sizing: border-box;margin-bottom: 0.5em;}#sk-container-id-14 div.sk-estimator:hover {background-color: #d4ebff;}#sk-container-id-14 div.sk-parallel-item::after {content: \"\";width: 100%;border-bottom: 1px solid gray;flex-grow: 1;}#sk-container-id-14 div.sk-label:hover label.sk-toggleable__label {background-color: #d4ebff;}#sk-container-id-14 div.sk-serial::before {content: \"\";position: absolute;border-left: 1px solid gray;box-sizing: border-box;top: 0;bottom: 0;left: 50%;z-index: 0;}#sk-container-id-14 div.sk-serial {display: flex;flex-direction: column;align-items: center;background-color: white;padding-right: 0.2em;padding-left: 0.2em;position: relative;}#sk-container-id-14 div.sk-item {position: relative;z-index: 1;}#sk-container-id-14 div.sk-parallel {display: flex;align-items: stretch;justify-content: center;background-color: white;position: relative;}#sk-container-id-14 div.sk-item::before, #sk-container-id-14 div.sk-parallel-item::before {content: \"\";position: absolute;border-left: 1px solid gray;box-sizing: border-box;top: 0;bottom: 0;left: 50%;z-index: -1;}#sk-container-id-14 div.sk-parallel-item {display: flex;flex-direction: column;z-index: 1;position: relative;background-color: white;}#sk-container-id-14 div.sk-parallel-item:first-child::after {align-self: flex-end;width: 50%;}#sk-container-id-14 div.sk-parallel-item:last-child::after {align-self: flex-start;width: 50%;}#sk-container-id-14 div.sk-parallel-item:only-child::after {width: 0;}#sk-container-id-14 div.sk-dashed-wrapped {border: 1px dashed gray;margin: 0 0.4em 0.5em 0.4em;box-sizing: border-box;padding-bottom: 0.4em;background-color: white;}#sk-container-id-14 div.sk-label label {font-family: monospace;font-weight: bold;display: inline-block;line-height: 1.2em;}#sk-container-id-14 div.sk-label-container {text-align: center;}#sk-container-id-14 div.sk-container {/* jupyter's `normalize.less` sets `[hidden] { display: none; }` but bootstrap.min.css set `[hidden] { display: none !important; }` so we also need the `!important` here to be able to override the default hidden behavior on the sphinx rendered scikit-learn.org. See: https://github.com/scikit-learn/scikit-learn/issues/21755 */display: inline-block !important;position: relative;}#sk-container-id-14 div.sk-text-repr-fallback {display: none;}</style><div id=\"sk-container-id-14\" class=\"sk-top-container\"><div class=\"sk-text-repr-fallback\"><pre>LogisticRegression(random_state=8123)</pre><b>In a Jupyter environment, please rerun this cell to show the HTML representation or trust the notebook. <br />On GitHub, the HTML representation is unable to render, please try loading this page with nbviewer.org.</b></div><div class=\"sk-container\" hidden><div class=\"sk-item\"><div class=\"sk-estimator sk-toggleable\"><input class=\"sk-toggleable__control sk-hidden--visually\" id=\"sk-estimator-id-14\" type=\"checkbox\" checked><label for=\"sk-estimator-id-14\" class=\"sk-toggleable__label sk-toggleable__label-arrow\">LogisticRegression</label><div class=\"sk-toggleable__content\"><pre>LogisticRegression(random_state=8123)</pre></div></div></div></div></div>"
            ]
          },
          "metadata": {},
          "execution_count": 70
        }
      ]
    },
    {
      "cell_type": "markdown",
      "metadata": {
        "id": "KhitFuvecFME"
      },
      "source": [
        "**d.** Veraverbally explain: what is the role of the chosen hyperparmeters in the learning algorithms? How did you choose the values for the optimization? (in 3-4 lines)"
      ]
    },
    {
      "cell_type": "markdown",
      "metadata": {
        "id": "ySInCwHzY6kG"
      },
      "source": [
        "#Your answer here:\n",
        "\n"
      ]
    },
    {
      "cell_type": "markdown",
      "metadata": {
        "id": "NX3647N3cHG5"
      },
      "source": [
        "Support Vector Classification hyperparameters chosen:\n",
        "*   **C** - penalty parameter of the error term.\n",
        "*   **gamma** - kernel's coefficient, it defines the influence of a single training example reaches. A low value of 'gamma' causes the function to be wide and flat, and a high value for the function to be narrow and deep.\n",
        "*   **kernel** - type of hyperplane used to separate the data.\n",
        "\n",
        "Random Forest Classification hyperparameters chosen:\n",
        "*   **n_estimators** - the number of trees in the forest.\n",
        "*   **max_depth** - the maximum depth of each tree in the forest.\n",
        "*   **max_features** - the number of features to take into account to make the best split.\n",
        "*   **criterion** - the function that will be used to measure the quality of the split.\n",
        "\n",
        "We chose the values of each hyperparameter by running an array of values for each parameter and by trial and error we found the best values of each.\n",
        "\n",
        "\n"
      ]
    },
    {
      "cell_type": "markdown",
      "metadata": {
        "id": "WXR9AHo9Y3gJ"
      },
      "source": [
        "#9. a. Predict the y variable on both the train set and the test set (for both imputed datasets and for both algorithms - 18 predictions in total):\n",
        "3 imputed datasets * 3 models * (train+test)\n",
        "\n",
        "and print the accuracy of each prediction.\n",
        "\n"
      ]
    },
    {
      "cell_type": "markdown",
      "source": [
        "# **Median imputed data predictions and results:**\n",
        "\n"
      ],
      "metadata": {
        "id": "6kKEynBHnZqz"
      }
    },
    {
      "cell_type": "markdown",
      "source": [
        "#### Logistic Regression:"
      ],
      "metadata": {
        "id": "HAxSvXMroRnm"
      }
    },
    {
      "cell_type": "code",
      "execution_count": null,
      "metadata": {
        "id": "OGXWpYFLZyHh",
        "colab": {
          "base_uri": "https://localhost:8080/"
        },
        "outputId": "38f8bda2-0701-4cb1-9447-7e71b082b552"
      },
      "outputs": [
        {
          "output_type": "stream",
          "name": "stdout",
          "text": [
            "              precision    recall  f1-score   support\n",
            "\n",
            "       False       0.77      0.82      0.80      6679\n",
            "        True       0.83      0.79      0.81      7465\n",
            "\n",
            "    accuracy                           0.80     14144\n",
            "   macro avg       0.80      0.80      0.80     14144\n",
            "weighted avg       0.80      0.80      0.80     14144\n",
            "\n"
          ]
        }
      ],
      "source": [
        "# Train set predictions and results:\n",
        "median_pred_train = logistic_median.predict(train_median_X)\n",
        "print(classification_report(median_pred_train,train_median_Y))"
      ]
    },
    {
      "cell_type": "code",
      "execution_count": null,
      "metadata": {
        "id": "uPHBneN0vbAA",
        "colab": {
          "base_uri": "https://localhost:8080/"
        },
        "outputId": "be7dfea4-e63b-449e-a7de-4cb7786204a0"
      },
      "outputs": [
        {
          "output_type": "stream",
          "name": "stdout",
          "text": [
            "              precision    recall  f1-score   support\n",
            "\n",
            "       False       0.77      0.82      0.79      1660\n",
            "        True       0.83      0.78      0.81      1876\n",
            "\n",
            "    accuracy                           0.80      3536\n",
            "   macro avg       0.80      0.80      0.80      3536\n",
            "weighted avg       0.80      0.80      0.80      3536\n",
            "\n"
          ]
        }
      ],
      "source": [
        "# Test set predictions and results:\n",
        "median_pred_test = logistic_median.predict(test_median_X)\n",
        "print(classification_report(median_pred_test,test_median_Y))"
      ]
    },
    {
      "cell_type": "markdown",
      "source": [
        "in logistic regression model with imputed media dataset\n",
        "\n",
        "Accuracy train :0.8\n",
        "\n",
        "\n",
        "Accuracy test : 0.8"
      ],
      "metadata": {
        "id": "CYyV-q-KNIv7"
      }
    },
    {
      "cell_type": "markdown",
      "source": [
        "#### Random forest Classification:"
      ],
      "metadata": {
        "id": "eqK2MvDMo2wa"
      }
    },
    {
      "cell_type": "code",
      "execution_count": null,
      "metadata": {
        "id": "5cpPpRDeeeg2",
        "colab": {
          "base_uri": "https://localhost:8080/"
        },
        "outputId": "01acf6f5-9474-4373-e0b6-573e8a117734"
      },
      "outputs": [
        {
          "output_type": "stream",
          "name": "stdout",
          "text": [
            "              precision    recall  f1-score   support\n",
            "\n",
            "       False       0.77      0.99      0.87      5461\n",
            "        True       1.00      0.81      0.89      8683\n",
            "\n",
            "    accuracy                           0.88     14144\n",
            "   macro avg       0.88      0.90      0.88     14144\n",
            "weighted avg       0.91      0.88      0.88     14144\n",
            "\n"
          ]
        }
      ],
      "source": [
        "# Train set predictions and results:\n",
        "median_pred_train_RF = random_forest_median.predict(train_median_X)\n",
        "print(classification_report(median_pred_train_RF,train_median_Y))"
      ]
    },
    {
      "cell_type": "code",
      "execution_count": null,
      "metadata": {
        "id": "BtVRwYIKeeHp",
        "colab": {
          "base_uri": "https://localhost:8080/"
        },
        "outputId": "9bac9768-6b26-437d-9be4-3133be6760d4"
      },
      "outputs": [
        {
          "output_type": "stream",
          "name": "stdout",
          "text": [
            "              precision    recall  f1-score   support\n",
            "\n",
            "       False       0.75      0.99      0.86      1348\n",
            "        True       0.99      0.80      0.89      2188\n",
            "\n",
            "    accuracy                           0.87      3536\n",
            "   macro avg       0.87      0.89      0.87      3536\n",
            "weighted avg       0.90      0.87      0.87      3536\n",
            "\n"
          ]
        }
      ],
      "source": [
        "# Test set predictions and results:\n",
        "median_pred_test_RF = random_forest_median.predict(test_median_X)\n",
        "print(classification_report(median_pred_test_RF,test_median_Y))"
      ]
    },
    {
      "cell_type": "markdown",
      "source": [
        "in random forest model with imputed median dataset\n",
        "\n",
        "Accuracy train :0.88\n",
        "\n",
        "Accuracy test : 0.87"
      ],
      "metadata": {
        "id": "qHJ3iaBpNc2M"
      }
    },
    {
      "cell_type": "markdown",
      "source": [
        "#### Support Vector Classification:"
      ],
      "metadata": {
        "id": "JhVo7nI2pu6y"
      }
    },
    {
      "cell_type": "code",
      "source": [
        "# Train set predictions and results:\n",
        "median_pred_train_SVC = svc_median.predict(train_median_X)\n",
        "print(classification_report(median_pred_train_SVC,train_median_Y))"
      ],
      "metadata": {
        "id": "Ilke887GN797",
        "colab": {
          "base_uri": "https://localhost:8080/"
        },
        "outputId": "955ebb77-572c-4ae2-fd6e-30d8cbb73ce8"
      },
      "execution_count": null,
      "outputs": [
        {
          "output_type": "stream",
          "name": "stdout",
          "text": [
            "              precision    recall  f1-score   support\n",
            "\n",
            "       False       0.76      0.84      0.80      6465\n",
            "        True       0.85      0.78      0.82      7679\n",
            "\n",
            "    accuracy                           0.81     14144\n",
            "   macro avg       0.81      0.81      0.81     14144\n",
            "weighted avg       0.81      0.81      0.81     14144\n",
            "\n"
          ]
        }
      ]
    },
    {
      "cell_type": "code",
      "source": [
        "# Test set predictions and results:\n",
        "median_pred_test_SVC = svc_median.predict(test_median_X)\n",
        "print(classification_report(median_pred_test_SVC,test_median_Y))"
      ],
      "metadata": {
        "id": "qJtnIIKkN70c",
        "colab": {
          "base_uri": "https://localhost:8080/"
        },
        "outputId": "a99a0421-5aa1-4e4e-a296-6f30eddb7def"
      },
      "execution_count": null,
      "outputs": [
        {
          "output_type": "stream",
          "name": "stdout",
          "text": [
            "              precision    recall  f1-score   support\n",
            "\n",
            "       False       0.76      0.84      0.80      1599\n",
            "        True       0.85      0.78      0.82      1937\n",
            "\n",
            "    accuracy                           0.81      3536\n",
            "   macro avg       0.81      0.81      0.81      3536\n",
            "weighted avg       0.81      0.81      0.81      3536\n",
            "\n"
          ]
        }
      ]
    },
    {
      "cell_type": "markdown",
      "source": [
        "in support vector machine with imputed median dataset\n",
        "\n",
        "Accuracy train :0.81\n",
        "\n",
        "Accuracy test : 0.81\n",
        "\n"
      ],
      "metadata": {
        "id": "lJEIMFsCQnpF"
      }
    },
    {
      "cell_type": "markdown",
      "source": [
        "# **Mean imputed data predictions and results:**\n",
        "\n"
      ],
      "metadata": {
        "id": "XdfIPNK359zy"
      }
    },
    {
      "cell_type": "markdown",
      "source": [
        "#### Logistic Regression:"
      ],
      "metadata": {
        "id": "dnwdebpxoqnX"
      }
    },
    {
      "cell_type": "code",
      "source": [
        "# Train set predictions and results:\n",
        "mean_pred_train = logistic_mean.predict(train_mean_X)\n",
        "print(classification_report(mean_pred_train,train_mean_Y))"
      ],
      "metadata": {
        "id": "SsZCxtiW6ib9",
        "colab": {
          "base_uri": "https://localhost:8080/"
        },
        "outputId": "4cea903b-2488-49eb-d230-040e0f4c0589"
      },
      "execution_count": null,
      "outputs": [
        {
          "output_type": "stream",
          "name": "stdout",
          "text": [
            "              precision    recall  f1-score   support\n",
            "\n",
            "       False       0.78      0.82      0.80      6701\n",
            "        True       0.83      0.79      0.81      7443\n",
            "\n",
            "    accuracy                           0.80     14144\n",
            "   macro avg       0.80      0.80      0.80     14144\n",
            "weighted avg       0.80      0.80      0.80     14144\n",
            "\n"
          ]
        }
      ]
    },
    {
      "cell_type": "code",
      "source": [
        "# Test set predictions and results:\n",
        "mean_pred_test = logistic_mean.predict(test_mean_X)\n",
        "print(classification_report(mean_pred_test,test_mean_Y))"
      ],
      "metadata": {
        "id": "SOKodv-I6iT_",
        "colab": {
          "base_uri": "https://localhost:8080/"
        },
        "outputId": "2f68221a-ee2b-4eab-ed9a-41589cc73b23"
      },
      "execution_count": null,
      "outputs": [
        {
          "output_type": "stream",
          "name": "stdout",
          "text": [
            "              precision    recall  f1-score   support\n",
            "\n",
            "       False       0.77      0.82      0.79      1667\n",
            "        True       0.83      0.79      0.81      1869\n",
            "\n",
            "    accuracy                           0.80      3536\n",
            "   macro avg       0.80      0.80      0.80      3536\n",
            "weighted avg       0.80      0.80      0.80      3536\n",
            "\n"
          ]
        }
      ]
    },
    {
      "cell_type": "markdown",
      "source": [
        "in logistic regression model with imputed mean dataset\n",
        "\n",
        "Accuracy train :0.8\n",
        "\n",
        "Accuracy test : 0.8"
      ],
      "metadata": {
        "id": "GBGipPFd0NUr"
      }
    },
    {
      "cell_type": "markdown",
      "source": [
        "#### Random forest Classification:"
      ],
      "metadata": {
        "id": "MBQc5kzdo7qY"
      }
    },
    {
      "cell_type": "code",
      "source": [
        "# Train set predictions and results:\n",
        "mean_pred_train_RF = random_forest_mean.predict(train_mean_X)\n",
        "print(classification_report(mean_pred_train_RF,train_mean_Y))"
      ],
      "metadata": {
        "id": "uhoXd_TN6iL_",
        "colab": {
          "base_uri": "https://localhost:8080/"
        },
        "outputId": "f134904c-f8d9-4178-f59f-b052d1602292"
      },
      "execution_count": null,
      "outputs": [
        {
          "output_type": "stream",
          "name": "stdout",
          "text": [
            "              precision    recall  f1-score   support\n",
            "\n",
            "       False       0.76      0.99      0.86      5455\n",
            "        True       0.99      0.81      0.89      8689\n",
            "\n",
            "    accuracy                           0.88     14144\n",
            "   macro avg       0.88      0.90      0.88     14144\n",
            "weighted avg       0.91      0.88      0.88     14144\n",
            "\n"
          ]
        }
      ]
    },
    {
      "cell_type": "code",
      "source": [
        "# Test set predictions and results:\n",
        "mean_pred_test_RF = random_forest_mean.predict(test_mean_X)\n",
        "print(classification_report(mean_pred_test_RF,test_mean_Y))"
      ],
      "metadata": {
        "id": "HNPUjn_N6iDR",
        "colab": {
          "base_uri": "https://localhost:8080/"
        },
        "outputId": "dc444fbc-cac7-4ce1-bc88-f339cdd251df"
      },
      "execution_count": null,
      "outputs": [
        {
          "output_type": "stream",
          "name": "stdout",
          "text": [
            "              precision    recall  f1-score   support\n",
            "\n",
            "       False       0.75      0.99      0.85      1346\n",
            "        True       0.99      0.80      0.89      2190\n",
            "\n",
            "    accuracy                           0.87      3536\n",
            "   macro avg       0.87      0.89      0.87      3536\n",
            "weighted avg       0.90      0.87      0.87      3536\n",
            "\n"
          ]
        }
      ]
    },
    {
      "cell_type": "markdown",
      "source": [
        "in random forest model with imputed mean dataset\n",
        "\n",
        "Accuracy train :0.88\n",
        "\n",
        "Accuracy test : 0.87"
      ],
      "metadata": {
        "id": "1NB8667Z0aiy"
      }
    },
    {
      "cell_type": "markdown",
      "source": [
        "#### Support Vector Classification:"
      ],
      "metadata": {
        "id": "VOOWBcuEpYR_"
      }
    },
    {
      "cell_type": "code",
      "source": [
        "# Train set predictions and results:\n",
        "mean_pred_train_SVC = svc_mean.predict(train_mean_X)\n",
        "print(classification_report(mean_pred_train_SVC,train_mean_Y))"
      ],
      "metadata": {
        "id": "HD-NoyRT6h5J",
        "colab": {
          "base_uri": "https://localhost:8080/"
        },
        "outputId": "f9bf9001-56b9-4b9b-9e20-f2277b9145a7"
      },
      "execution_count": null,
      "outputs": [
        {
          "output_type": "error",
          "ename": "NameError",
          "evalue": "ignored",
          "traceback": [
            "\u001b[0;31m---------------------------------------------------------------------------\u001b[0m",
            "\u001b[0;31mNameError\u001b[0m                                 Traceback (most recent call last)",
            "\u001b[0;32m<ipython-input-1-ae98989da6c0>\u001b[0m in \u001b[0;36m<cell line: 2>\u001b[0;34m()\u001b[0m\n\u001b[1;32m      1\u001b[0m \u001b[0;31m# Train set predictions and results:\u001b[0m\u001b[0;34m\u001b[0m\u001b[0;34m\u001b[0m\u001b[0m\n\u001b[0;32m----> 2\u001b[0;31m \u001b[0mmean_pred_train_SVC\u001b[0m \u001b[0;34m=\u001b[0m \u001b[0msvc_mean\u001b[0m\u001b[0;34m.\u001b[0m\u001b[0mpredict\u001b[0m\u001b[0;34m(\u001b[0m\u001b[0mtrain_mean_X\u001b[0m\u001b[0;34m)\u001b[0m\u001b[0;34m\u001b[0m\u001b[0;34m\u001b[0m\u001b[0m\n\u001b[0m\u001b[1;32m      3\u001b[0m \u001b[0mprint\u001b[0m\u001b[0;34m(\u001b[0m\u001b[0mclassification_report\u001b[0m\u001b[0;34m(\u001b[0m\u001b[0mmean_pred_train_SVC\u001b[0m\u001b[0;34m,\u001b[0m\u001b[0mtrain_mean_Y\u001b[0m\u001b[0;34m)\u001b[0m\u001b[0;34m)\u001b[0m\u001b[0;34m\u001b[0m\u001b[0;34m\u001b[0m\u001b[0m\n",
            "\u001b[0;31mNameError\u001b[0m: name 'svc_mean' is not defined"
          ]
        }
      ]
    },
    {
      "cell_type": "code",
      "source": [
        "# Test set predictions and results:\n",
        "mean_pred_test_SVC = svc_mean.predict(test_mean_X)\n",
        "print(classification_report(mean_pred_test_SVC,test_mean_Y))"
      ],
      "metadata": {
        "id": "Qgjf-9sL6hXB",
        "colab": {
          "base_uri": "https://localhost:8080/"
        },
        "outputId": "7d636fa4-f56e-4222-f896-7ce450f79458"
      },
      "execution_count": null,
      "outputs": [
        {
          "output_type": "stream",
          "name": "stdout",
          "text": [
            "              precision    recall  f1-score   support\n",
            "\n",
            "       False       0.76      0.84      0.80      1588\n",
            "        True       0.86      0.78      0.82      1948\n",
            "\n",
            "    accuracy                           0.81      3536\n",
            "   macro avg       0.81      0.81      0.81      3536\n",
            "weighted avg       0.81      0.81      0.81      3536\n",
            "\n"
          ]
        }
      ]
    },
    {
      "cell_type": "markdown",
      "source": [
        "in support vector machine with imputed mean dataset\n",
        "\n",
        "Accuracy train :0.81\n",
        "\n",
        "Accuracy test : 0.81"
      ],
      "metadata": {
        "id": "BoNxS3F60j3s"
      }
    },
    {
      "cell_type": "markdown",
      "source": [
        "\n",
        "# **Iterative imputed data predictions and results:**"
      ],
      "metadata": {
        "id": "AB5VCpN-PDvQ"
      }
    },
    {
      "cell_type": "markdown",
      "source": [
        "#### Logistic Regression:"
      ],
      "metadata": {
        "id": "ObwViljCVc4R"
      }
    },
    {
      "cell_type": "code",
      "source": [
        "# Train set predictions and results:\n",
        "iterative_pred_train_LR = logistic_iterative.predict(train_iterative_X)\n",
        "print(classification_report(iterative_pred_train_LR,train_iterative_Y))"
      ],
      "metadata": {
        "id": "BqHmcUMVVuf7",
        "colab": {
          "base_uri": "https://localhost:8080/"
        },
        "outputId": "f3b114fc-11bd-4bda-f625-016db3dd006f"
      },
      "execution_count": null,
      "outputs": [
        {
          "output_type": "stream",
          "name": "stdout",
          "text": [
            "              precision    recall  f1-score   support\n",
            "\n",
            "       False       0.77      0.86      0.81      6344\n",
            "        True       0.87      0.79      0.83      7800\n",
            "\n",
            "    accuracy                           0.82     14144\n",
            "   macro avg       0.82      0.83      0.82     14144\n",
            "weighted avg       0.83      0.82      0.82     14144\n",
            "\n"
          ]
        }
      ]
    },
    {
      "cell_type": "code",
      "source": [
        "# Test set predictions and results:\n",
        "iterative_pred_test_LR = logistic_iterative.predict(test_iterative_X)\n",
        "print(classification_report(iterative_pred_test_LR,test_iterative_Y))"
      ],
      "metadata": {
        "id": "zVlpus--VwZC",
        "colab": {
          "base_uri": "https://localhost:8080/"
        },
        "outputId": "b62a427c-b64f-4ece-ecff-e35dcdf2a54f"
      },
      "execution_count": null,
      "outputs": [
        {
          "output_type": "stream",
          "name": "stdout",
          "text": [
            "              precision    recall  f1-score   support\n",
            "\n",
            "       False       0.76      0.85      0.80      1573\n",
            "        True       0.87      0.78      0.82      1963\n",
            "\n",
            "    accuracy                           0.81      3536\n",
            "   macro avg       0.81      0.82      0.81      3536\n",
            "weighted avg       0.82      0.81      0.82      3536\n",
            "\n"
          ]
        }
      ]
    },
    {
      "cell_type": "markdown",
      "source": [
        "#### Random forest Classification:"
      ],
      "metadata": {
        "id": "Z7Z8o5aSPr1X"
      }
    },
    {
      "cell_type": "code",
      "source": [
        "# Train set predictions and results:\n",
        "iterative_pred_train_RF = random_forest_iterative.predict(train_iterative_X)\n",
        "print(classification_report(iterative_pred_train_RF,train_iterative_Y))"
      ],
      "metadata": {
        "id": "r-PNIqgvPpPc",
        "colab": {
          "base_uri": "https://localhost:8080/"
        },
        "outputId": "753bdbaa-e723-4319-db05-62346dbafd22"
      },
      "execution_count": null,
      "outputs": [
        {
          "output_type": "stream",
          "name": "stdout",
          "text": [
            "              precision    recall  f1-score   support\n",
            "\n",
            "       False       0.76      0.99      0.86      5458\n",
            "        True       0.99      0.81      0.89      8686\n",
            "\n",
            "    accuracy                           0.88     14144\n",
            "   macro avg       0.88      0.90      0.88     14144\n",
            "weighted avg       0.90      0.88      0.88     14144\n",
            "\n"
          ]
        }
      ]
    },
    {
      "cell_type": "code",
      "source": [
        "# Test set predictions and results:\n",
        "iterative_pred_test_RF = random_forest_iterative.predict(test_iterative_X)\n",
        "print(classification_report(iterative_pred_test_RF,test_iterative_Y))"
      ],
      "metadata": {
        "id": "umZQHLq1Q6gv",
        "colab": {
          "base_uri": "https://localhost:8080/"
        },
        "outputId": "7b704cfa-9f85-42a5-ac26-e336375645de"
      },
      "execution_count": null,
      "outputs": [
        {
          "output_type": "stream",
          "name": "stdout",
          "text": [
            "              precision    recall  f1-score   support\n",
            "\n",
            "       False       0.75      0.99      0.86      1345\n",
            "        True       0.99      0.80      0.89      2191\n",
            "\n",
            "    accuracy                           0.87      3536\n",
            "   macro avg       0.87      0.90      0.87      3536\n",
            "weighted avg       0.90      0.87      0.88      3536\n",
            "\n"
          ]
        }
      ]
    },
    {
      "cell_type": "markdown",
      "source": [
        "#### Support Vector Classification:"
      ],
      "metadata": {
        "id": "emM6BVbXSqar"
      }
    },
    {
      "cell_type": "code",
      "source": [
        "# Train set predictions and results:\n",
        "iterative_pred_train_SVC = svc_iterative.predict(train_iterative_X)\n",
        "print(classification_report(iterative_pred_train_SVC,train_iterative_Y))"
      ],
      "metadata": {
        "id": "AbsW5XIvS1UZ",
        "colab": {
          "base_uri": "https://localhost:8080/"
        },
        "outputId": "dab95928-99c1-4f77-b176-d276784cbbac"
      },
      "execution_count": null,
      "outputs": [
        {
          "output_type": "stream",
          "name": "stdout",
          "text": [
            "              precision    recall  f1-score   support\n",
            "\n",
            "       False       0.73      0.90      0.81      5773\n",
            "        True       0.92      0.77      0.84      8371\n",
            "\n",
            "    accuracy                           0.83     14144\n",
            "   macro avg       0.83      0.84      0.82     14144\n",
            "weighted avg       0.84      0.83      0.83     14144\n",
            "\n"
          ]
        }
      ]
    },
    {
      "cell_type": "code",
      "source": [
        "# Test set predictions and results:\n",
        "iterative_pred_test_SVC = svc_iterative.predict(test_iterative_X)\n",
        "print(classification_report(iterative_pred_test_SVC,test_iterative_Y))"
      ],
      "metadata": {
        "id": "PK_c18MrS1yB",
        "colab": {
          "base_uri": "https://localhost:8080/"
        },
        "outputId": "6174d715-efa1-477f-e77c-bc240438bb40"
      },
      "execution_count": null,
      "outputs": [
        {
          "output_type": "stream",
          "name": "stdout",
          "text": [
            "              precision    recall  f1-score   support\n",
            "\n",
            "       False       0.72      0.90      0.80      1411\n",
            "        True       0.92      0.77      0.84      2125\n",
            "\n",
            "    accuracy                           0.82      3536\n",
            "   macro avg       0.82      0.84      0.82      3536\n",
            "weighted avg       0.84      0.82      0.82      3536\n",
            "\n"
          ]
        }
      ]
    },
    {
      "cell_type": "markdown",
      "metadata": {
        "id": "0q70fd0FZzqS"
      },
      "source": [
        "#b. Verbally explain which model resulted with the best outcome with consideration to over-fitting, under-fitting and proper-fitting."
      ]
    },
    {
      "cell_type": "markdown",
      "metadata": {
        "id": "N8EIHUuGa5Cu"
      },
      "source": [
        "#Your answer here:\n",
        "\n"
      ]
    },
    {
      "cell_type": "markdown",
      "source": [
        "According to the results we received it can be seen that the best model is random forest in all 3 tables that used different methods to impute missing data (means, medians and iterative).\n",
        "\n",
        "We assume from the results that properfitting takes place because we received that the accuracy of the train sets (88%) and the test sets (87%) together are high and identical."
      ],
      "metadata": {
        "id": "2YaDOiHtI64R"
      }
    },
    {
      "cell_type": "markdown",
      "metadata": {
        "id": "QjsR7CqOaRnC"
      },
      "source": [
        "#Print the classification_report of the test set using the best model and verbally explain another quality measure of your choice."
      ]
    },
    {
      "cell_type": "markdown",
      "source": [
        "# **(The classification reports of test sets were printed in section 9a)**"
      ],
      "metadata": {
        "id": "jYnAe6XAx9mo"
      }
    },
    {
      "cell_type": "markdown",
      "metadata": {
        "id": "oyUVqCG6a5mq"
      },
      "source": [
        "#Your answer here:\n",
        "\n"
      ]
    },
    {
      "cell_type": "markdown",
      "source": [
        "As it can be seen from the classification reports of all 3 tables from section 4, the recall value points that out of all the objects that the model predicted would be hazardous to earth, 80% indeed are."
      ],
      "metadata": {
        "id": "RsSjJoSVy6r9"
      }
    },
    {
      "cell_type": "markdown",
      "metadata": {
        "id": "M573muOoa6Kp"
      },
      "source": [
        "#Good Luck!"
      ]
    }
  ],
  "metadata": {
    "colab": {
      "provenance": []
    },
    "kernelspec": {
      "display_name": "Python 3",
      "name": "python3"
    },
    "language_info": {
      "name": "python"
    }
  },
  "nbformat": 4,
  "nbformat_minor": 0
}